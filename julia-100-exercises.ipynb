{
 "metadata": {
  "language": "Julia",
  "name": "",
  "signature": "sha256:7464db41dc094ff0d5193f10cc8c911bb113ab5d5c09f0eb2f4cedad580462e7"
 },
 "nbformat": 3,
 "nbformat_minor": 0,
 "worksheets": [
  {
   "cells": [
    {
     "cell_type": "code",
     "collapsed": false,
     "input": [
      "# 2. Print the julia version\n",
      "VERSION"
     ],
     "language": "python",
     "metadata": {},
     "outputs": [
      {
       "metadata": {},
       "output_type": "pyout",
       "prompt_number": 1,
       "text": [
        "v\"0.3.0-prerelease+3551\""
       ]
      }
     ],
     "prompt_number": 1
    },
    {
     "cell_type": "code",
     "collapsed": false,
     "input": [
      "# 3. Create a null vector of size 10\n",
      "Z = zeros(10)"
     ],
     "language": "python",
     "metadata": {},
     "outputs": [
      {
       "metadata": {},
       "output_type": "pyout",
       "prompt_number": 2,
       "text": [
        "10-element Array{Float64,1}:\n",
        " 0.0\n",
        " 0.0\n",
        " 0.0\n",
        " 0.0\n",
        " 0.0\n",
        " 0.0\n",
        " 0.0\n",
        " 0.0\n",
        " 0.0\n",
        " 0.0"
       ]
      }
     ],
     "prompt_number": 2
    },
    {
     "cell_type": "code",
     "collapsed": false,
     "input": [
      "# 4. Create a null vector of size 10 but the fifth value which is 1\n",
      "Z = zeros(10)\n",
      "Z[5] = 1\n",
      "Z"
     ],
     "language": "python",
     "metadata": {},
     "outputs": [
      {
       "metadata": {},
       "output_type": "pyout",
       "prompt_number": 3,
       "text": [
        "10-element Array{Float64,1}:\n",
        " 0.0\n",
        " 0.0\n",
        " 0.0\n",
        " 0.0\n",
        " 1.0\n",
        " 0.0\n",
        " 0.0\n",
        " 0.0\n",
        " 0.0\n",
        " 0.0"
       ]
      }
     ],
     "prompt_number": 3
    },
    {
     "cell_type": "code",
     "collapsed": false,
     "input": [
      "# 5. Create a vector with values ranging from 10 to 99\n",
      "Z = [10:99]"
     ],
     "language": "python",
     "metadata": {},
     "outputs": [
      {
       "metadata": {},
       "output_type": "pyout",
       "prompt_number": 4,
       "text": [
        "90-element Array{Int64,1}:\n",
        " 10\n",
        " 11\n",
        " 12\n",
        " 13\n",
        " 14\n",
        " 15\n",
        " 16\n",
        " 17\n",
        " 18\n",
        " 19\n",
        " 20\n",
        " 21\n",
        " 22\n",
        "  \u22ee\n",
        " 88\n",
        " 89\n",
        " 90\n",
        " 91\n",
        " 92\n",
        " 93\n",
        " 94\n",
        " 95\n",
        " 96\n",
        " 97\n",
        " 98\n",
        " 99"
       ]
      }
     ],
     "prompt_number": 4
    },
    {
     "cell_type": "code",
     "collapsed": false,
     "input": [
      "# 6. Create a 3x3 matrix with values ranging from 0 to 8\n",
      "Z = reshape(0:8, 3, 3)"
     ],
     "language": "python",
     "metadata": {},
     "outputs": [
      {
       "metadata": {},
       "output_type": "pyout",
       "prompt_number": 5,
       "text": [
        "3x3 Array{Int64,2}:\n",
        " 0  3  6\n",
        " 1  4  7\n",
        " 2  5  8"
       ]
      }
     ],
     "prompt_number": 5
    },
    {
     "cell_type": "code",
     "collapsed": false,
     "input": [
      "# 7. Find indices of non-zero elements from [1,2,0,0,4,0]\n",
      "nz = find([1,2,0,0,4,0])"
     ],
     "language": "python",
     "metadata": {},
     "outputs": [
      {
       "metadata": {},
       "output_type": "pyout",
       "prompt_number": 6,
       "text": [
        "3-element Array{Int64,1}:\n",
        " 1\n",
        " 2\n",
        " 5"
       ]
      }
     ],
     "prompt_number": 6
    },
    {
     "cell_type": "code",
     "collapsed": false,
     "input": [
      "# 8. Create a 3x3 identity matrix\n",
      "Z = eye(3)"
     ],
     "language": "python",
     "metadata": {},
     "outputs": [
      {
       "metadata": {},
       "output_type": "pyout",
       "prompt_number": 7,
       "text": [
        "3x3 Array{Float64,2}:\n",
        " 1.0  0.0  0.0\n",
        " 0.0  1.0  0.0\n",
        " 0.0  0.0  1.0"
       ]
      }
     ],
     "prompt_number": 7
    },
    {
     "cell_type": "code",
     "collapsed": false,
     "input": [
      "# 9. Create a 5x5 matrix with values 1,2,3,4 just below the diagonal\n",
      "Z = diagm(1:4, -1)"
     ],
     "language": "python",
     "metadata": {},
     "outputs": [
      {
       "metadata": {},
       "output_type": "pyout",
       "prompt_number": 8,
       "text": [
        "5x5 Array{Int64,2}:\n",
        " 0  0  0  0  0\n",
        " 1  0  0  0  0\n",
        " 0  2  0  0  0\n",
        " 0  0  3  0  0\n",
        " 0  0  0  4  0"
       ]
      }
     ],
     "prompt_number": 8
    },
    {
     "cell_type": "code",
     "collapsed": false,
     "input": [
      "# 10. Create a 10x10x10 array with random values\n",
      "rand(10, 10, 10)"
     ],
     "language": "python",
     "metadata": {},
     "outputs": [
      {
       "metadata": {},
       "output_type": "pyout",
       "prompt_number": 9,
       "text": [
        "10x10x10 Array{Float64,3}:\n",
        "[:, :, 1] =\n",
        " 0.0309398  0.182419   0.107328   0.65089   \u2026  0.775361  0.468195  0.0167433\n",
        " 0.353834   0.320086   0.976059   0.23463      0.290111  0.199994  0.853524 \n",
        " 0.890302   0.588748   0.533695   0.859053     0.473534  0.780398  0.804802 \n",
        " 0.544781   0.71115    0.0869389  0.516537     0.567882  0.450418  0.969409 \n",
        " 0.814459   0.915346   0.550588   0.438483     0.202171  0.809101  0.541896 \n",
        " 0.439083   0.842686   0.547866   0.788477  \u2026  0.347284  0.414244  0.884557 \n",
        " 0.993769   0.722434   0.0393803  0.811694     0.296084  0.218363  0.27777  \n",
        " 0.944995   0.938099   0.205766   0.132347     0.226555  0.295346  0.99358  \n",
        " 0.849783   0.206474   0.526198   0.588183     0.715321  0.322902  0.245429 \n",
        " 0.899379   0.0115379  0.798764   0.41238      0.788913  0.521099  0.279671 \n",
        "\n",
        "[:, :, 2] =\n",
        " 0.519055  0.603529    0.332943    \u2026  0.362684  0.57165    0.290444\n",
        " 0.441314  0.125147    0.823311       0.700137  0.727955   0.569941\n",
        " 0.699403  0.34328     0.56735        0.103589  0.0393879  0.330289\n",
        " 0.54842   0.967123    0.00827682     0.672789  0.724911   0.214541\n",
        " 0.681021  0.00167751  0.717988       0.526429  0.197706   0.520865\n",
        " 0.794185  0.617155    0.899234    \u2026  0.305917  0.187619   0.518776\n",
        " 0.77412   0.866901    0.753125       0.442526  0.610072   0.763336\n",
        " 0.222241  0.551868    0.871684       0.947746  0.92423    0.524069\n",
        " 0.599445  0.526452    0.286904       0.387542  0.91567    0.35965 \n",
        " 0.78289   0.246492    0.401513       0.459683  0.254205   0.372517\n",
        "\n",
        "[:, :, 3] =\n",
        " 0.265889   0.124977  0.674384   \u2026  0.737987   0.0436246  0.00349146\n",
        " 0.0306996  0.587954  0.246608      0.200878   0.758453   0.638211  \n",
        " 0.56652    0.883272  0.562572      0.149441   0.765654   0.462906  \n",
        " 0.529082   0.40097   0.147698      0.272039   0.375287   0.211357  \n",
        " 0.778271   0.100124  0.152102      0.595766   0.871074   0.2566    \n",
        " 0.305463   0.737898  0.568956   \u2026  0.753321   0.551923   0.763217  \n",
        " 0.829024   0.784975  0.636116      0.42756    0.0103083  0.63258   \n",
        " 0.147808   0.257202  0.081944      0.0284486  0.635032   0.938189  \n",
        " 0.612503   0.838776  0.744619      0.373352   0.961803   0.661936  \n",
        " 0.955751   0.41454   0.0207932     0.0288665  0.526809   0.777678  \n",
        "\n",
        "[:, :, 4] =\n",
        " 0.767662  0.0470004   0.67551    \u2026  0.585651   0.856234   0.861846 \n",
        " 0.858988  0.177173    0.909211      0.825304   0.475348   0.603579 \n",
        " 0.709379  0.31005     0.571464      0.0865132  0.257666   0.239785 \n",
        " 0.795813  0.00825916  0.979779      0.153208   0.537387   0.674958 \n",
        " 0.193329  0.438184    0.37083       0.251703   0.738941   0.0666126\n",
        " 0.520479  0.25471     0.786738   \u2026  0.183477   0.333831   0.0630659\n",
        " 0.681083  0.65672     0.624211      0.833348   0.820998   0.651602 \n",
        " 0.325701  0.103597    0.338536      0.760528   0.379002   0.94495  \n",
        " 0.539583  0.0355896   0.175324      0.102986   0.0645116  0.0710521\n",
        " 0.836553  0.270588    0.0501866     0.0212123  0.763424   0.148411 \n",
        "\n",
        "[:, :, 5] =\n",
        " 0.830666   0.85221   0.32072   0.189058   \u2026  0.367893   0.382284   0.118638 \n",
        " 0.181039   0.813891  0.600168  0.730749      0.714431   0.373161   0.316792 \n",
        " 0.951541   0.674397  0.226391  0.181717      0.0078133  0.27056    0.394834 \n",
        " 0.320077   0.407358  0.707443  0.597272      0.881647   0.196335   0.0209693\n",
        " 0.805949   0.56416   0.301036  0.219849      0.647423   0.847299   0.577742 \n",
        " 0.895455   0.199922  0.115725  0.0565323  \u2026  0.886382   0.558828   0.0874489\n",
        " 0.933056   0.523157  0.226617  0.559778      0.580465   0.831307   0.209986 \n",
        " 0.90287    0.845941  0.730037  0.859049      0.63401    0.270342   0.53971  \n",
        " 0.128372   0.560708  0.674748  0.346573      0.88683    0.0429898  0.497269 \n",
        " 0.0606903  0.286289  0.119034  0.294903      0.608702   0.947683   0.987759 \n",
        "\n",
        "[:, :, 6] =\n",
        " 0.0577346  0.813166   0.909381  \u2026  0.461232    0.673137     0.263422 \n",
        " 0.911808   0.0435681  0.457639     0.00591455  0.251167     0.535442 \n",
        " 0.0208707  0.170394   0.757331     0.344379    0.569472     0.684876 \n",
        " 0.176936   0.970568   0.410404     0.460128    0.262809     0.402101 \n",
        " 0.604605   0.154514   0.477042     0.0364676   0.354044     0.2043   \n",
        " 0.502988   0.546767   0.612413  \u2026  0.315159    0.0451219    0.473424 \n",
        " 0.925967   0.291768   0.724102     0.616255    0.336599     0.799605 \n",
        " 0.560918   0.0133162  0.542401     0.333604    0.447741     0.431939 \n",
        " 0.0377456  0.130916   0.246223     0.373172    0.843525     0.0943527\n",
        " 0.191884   0.106844   0.105042     0.896722    0.000807371  0.859632 \n",
        "\n",
        "[:, :, 7] =\n",
        " 0.0228728  0.407932  0.759366   0.331997    \u2026  0.369697  0.280654  0.172341\n",
        " 0.779446   0.577675  0.676562   0.440399       0.825929  0.618334  0.962553\n",
        " 0.540406   0.634414  0.747464   0.929527       0.336645  0.244436  0.859897\n",
        " 0.289646   0.269593  0.740082   0.599872       0.648958  0.455206  0.616921\n",
        " 0.784355   0.109313  0.186443   0.445731       0.752691  0.674754  0.404559\n",
        " 0.522446   0.975335  0.0987697  0.411685    \u2026  0.645815  0.110418  0.190023\n",
        " 0.880218   0.708747  0.76063    0.00395765     0.740023  0.408218  0.745258\n",
        " 0.266284   0.281962  0.418985   0.609419       0.939314  0.960301  0.70058 \n",
        " 0.307812   0.576293  0.84314    0.946757       0.292895  0.800936  0.592353\n",
        " 0.218367   0.438292  0.443785   0.877585       0.189219  0.640363  0.327162\n",
        "\n",
        "[:, :, 8] =\n",
        " 0.696448   0.583066   0.981439   0.770418   \u2026  0.949156  0.249221   0.713424\n",
        " 0.597385   0.155221   0.0681178  0.334218      0.230532  0.284748   0.695702\n",
        " 0.657846   0.996809   0.375327   0.63951       0.96155   0.725944   0.31125 \n",
        " 0.962384   0.433149   0.465886   0.721857      0.304597  0.49177    0.221281\n",
        " 0.370317   0.913103   0.771383   0.437691      0.336927  0.0895056  0.224885\n",
        " 0.65876    0.312024   0.245971   0.0170243  \u2026  0.307599  0.630773   0.346164\n",
        " 0.0719326  0.743244   0.122185   0.488135      0.494985  0.434909   0.220227\n",
        " 0.915118   0.359724   0.866189   0.722107      0.163294  0.695127   0.673352\n",
        " 0.832244   0.0722917  0.0556164  0.547648      0.699393  0.977112   0.654436\n",
        " 0.551103   0.351979   0.273426   0.475268      0.070275  0.675975   0.957356\n",
        "\n",
        "[:, :, 9] =\n",
        " 0.83488   0.456925  0.91785    0.710037  \u2026  0.814492  0.223686   0.535311 \n",
        " 0.184512  0.679697  0.158262   0.334086     0.433263  0.551311   0.0959258\n",
        " 0.129263  0.345805  0.857518   0.87611      0.524501  0.798261   0.115723 \n",
        " 0.356418  0.895086  0.655514   0.522853     0.505825  0.655762   0.296744 \n",
        " 0.689508  0.748922  0.867635   0.801631     0.408446  0.167854   0.897251 \n",
        " 0.634286  0.405087  0.216864   0.805107  \u2026  0.330781  0.849689   0.412002 \n",
        " 0.318499  0.046771  0.945452   0.435787     0.445755  0.0359823  0.475656 \n",
        " 0.997882  0.278133  0.275172   0.549378     0.829655  0.667132   0.3665   \n",
        " 0.374046  0.993977  0.626037   0.111665     0.445281  0.887685   0.0351683\n",
        " 0.471654  0.623034  0.0597726  0.952454     0.508802  0.603995   0.749591 \n",
        "\n",
        "[:, :, 10] =\n",
        " 0.348758   0.0381812  0.914208   0.798995  \u2026  0.952307  0.041296  0.219436  \n",
        " 0.743074   0.205166   0.506945   0.446287     0.902732  0.121904  0.452219  \n",
        " 0.77092    0.918767   0.492929   0.207517     0.067026  0.783032  0.354752  \n",
        " 0.294292   0.991583   0.191035   0.145189     0.399684  0.519801  0.0946452 \n",
        " 0.900783   0.250413   0.700488   0.319045     0.779517  0.351562  0.741191  \n",
        " 0.816307   0.999722   0.708281   0.637028  \u2026  0.813432  0.604944  0.485019  \n",
        " 0.448909   0.542224   0.740256   0.777192     0.840114  0.919019  0.531141  \n",
        " 0.133399   0.756623   0.26552    0.427637     0.833125  0.277845  0.144449  \n",
        " 0.34308    0.860588   0.790838   0.818534     0.134293  0.561042  0.00880437\n",
        " 0.0388199  0.605963   0.0354432  0.921029     0.362319  0.664251  0.268328  "
       ]
      }
     ],
     "prompt_number": 9
    },
    {
     "cell_type": "code",
     "collapsed": false,
     "input": [
      "# Novice\n",
      "# 1. Create a 8x8 matrix and fill it with a checkerboard pattern\n",
      "Z = zeros(Int64,8,8)\n",
      "Z[1:2:end, 2:2:end] = 1\n",
      "Z[2:2:end, 1:2:end] = 1\n",
      "Z\n",
      "\n",
      "# Another solution\n",
      "# Author: harven\n",
      "[(i+j)%2 for i=1:8, j=1:8]"
     ],
     "language": "python",
     "metadata": {},
     "outputs": [
      {
       "metadata": {},
       "output_type": "pyout",
       "prompt_number": 10,
       "text": [
        "8x8 Array{Int64,2}:\n",
        " 0  1  0  1  0  1  0  1\n",
        " 1  0  1  0  1  0  1  0\n",
        " 0  1  0  1  0  1  0  1\n",
        " 1  0  1  0  1  0  1  0\n",
        " 0  1  0  1  0  1  0  1\n",
        " 1  0  1  0  1  0  1  0\n",
        " 0  1  0  1  0  1  0  1\n",
        " 1  0  1  0  1  0  1  0"
       ]
      }
     ],
     "prompt_number": 10
    },
    {
     "cell_type": "code",
     "collapsed": false,
     "input": [
      "# 2. Create a 10x10 array with random values and find the minimum and maximum values\n",
      "Z = rand(10, 10)\n",
      "Zmin, Zmax = minimum(Z), maximum(Z)\n",
      "# It also write as following. thanks [hc_e](http://qiita.com/chezou/items/d7ca4e95d25835a5cd01#comment-1c20073a44695c08f523)\n",
      "Zmin, Zmax = extrema(Z)"
     ],
     "language": "python",
     "metadata": {},
     "outputs": [
      {
       "metadata": {},
       "output_type": "pyout",
       "prompt_number": 11,
       "text": [
        "(0.000575869674527496,0.9948239829112051)"
       ]
      }
     ],
     "prompt_number": 11
    },
    {
     "cell_type": "code",
     "collapsed": false,
     "input": [
      "# 3. Create a checkerboard 8x8 matrix using the tile function\n",
      "# numpy's tile equal to repmat\n",
      "Z = repmat([0 1;1 0],4,4)"
     ],
     "language": "python",
     "metadata": {},
     "outputs": [
      {
       "metadata": {},
       "output_type": "pyout",
       "prompt_number": 12,
       "text": [
        "8x8 Array{Int64,2}:\n",
        " 0  1  0  1  0  1  0  1\n",
        " 1  0  1  0  1  0  1  0\n",
        " 0  1  0  1  0  1  0  1\n",
        " 1  0  1  0  1  0  1  0\n",
        " 0  1  0  1  0  1  0  1\n",
        " 1  0  1  0  1  0  1  0\n",
        " 0  1  0  1  0  1  0  1\n",
        " 1  0  1  0  1  0  1  0"
       ]
      }
     ],
     "prompt_number": 12
    },
    {
     "cell_type": "code",
     "collapsed": false,
     "input": [
      "# 4. Normalize a 5x5 random matrix (between 0 and 1)\n",
      "Z = rand(5, 5)\n",
      "Zmin, Zmax = minimum(Z), maximum(Z)\n",
      "Z = (Z .- Zmin)./(Zmax - Zmin)"
     ],
     "language": "python",
     "metadata": {},
     "outputs": [
      {
       "metadata": {},
       "output_type": "pyout",
       "prompt_number": 13,
       "text": [
        "5x5 Array{Float64,2}:\n",
        " 1.0        0.272674  0.877153   0.3789    0.886905 \n",
        " 0.811977   0.748335  0.70712    0.605625  0.0914931\n",
        " 0.0140483  0.649059  0.0653121  0.434372  0.366784 \n",
        " 0.200126   0.348832  0.869033   0.71262   0.656901 \n",
        " 0.108783   0.801144  0.363822   0.949105  0.0      "
       ]
      }
     ],
     "prompt_number": 13
    },
    {
     "cell_type": "code",
     "collapsed": false,
     "input": [
      "# 5. Multiply a 5x3 matrix by a 3x2 matrix (real matrix product)\n",
      "Z = ones(5,3) * ones(3,2)"
     ],
     "language": "python",
     "metadata": {},
     "outputs": [
      {
       "metadata": {},
       "output_type": "pyout",
       "prompt_number": 14,
       "text": [
        "5x2 Array{Float64,2}:\n",
        " 3.0  3.0\n",
        " 3.0  3.0\n",
        " 3.0  3.0\n",
        " 3.0  3.0\n",
        " 3.0  3.0"
       ]
      }
     ],
     "prompt_number": 14
    },
    {
     "cell_type": "code",
     "collapsed": false,
     "input": [
      "# 6. Create a 10x10 matrix with row values ranging from 0 to 9\n",
      "(zeros(Int64,10,10) .+ [0:9])'\n",
      "\n",
      "# Alternate solution\n",
      "# Author: Leah Hanson\n",
      "[y for x in 1:10, y in 0:9]"
     ],
     "language": "python",
     "metadata": {},
     "outputs": [
      {
       "metadata": {},
       "output_type": "pyout",
       "prompt_number": 15,
       "text": [
        "10x10 Array{Int64,2}:\n",
        " 0  1  2  3  4  5  6  7  8  9\n",
        " 0  1  2  3  4  5  6  7  8  9\n",
        " 0  1  2  3  4  5  6  7  8  9\n",
        " 0  1  2  3  4  5  6  7  8  9\n",
        " 0  1  2  3  4  5  6  7  8  9\n",
        " 0  1  2  3  4  5  6  7  8  9\n",
        " 0  1  2  3  4  5  6  7  8  9\n",
        " 0  1  2  3  4  5  6  7  8  9\n",
        " 0  1  2  3  4  5  6  7  8  9\n",
        " 0  1  2  3  4  5  6  7  8  9"
       ]
      }
     ],
     "prompt_number": 15
    },
    {
     "cell_type": "code",
     "collapsed": false,
     "input": [
      "# 7. Create a vector of size 1000 with values ranging from 0 to 1, both excluded\n",
      "linspace(0,1, 1002)[2:end - 1]"
     ],
     "language": "python",
     "metadata": {},
     "outputs": [
      {
       "metadata": {},
       "output_type": "pyout",
       "prompt_number": 16,
       "text": [
        "1000-element Array{Float64,1}:\n",
        " 0.000999001\n",
        " 0.001998   \n",
        " 0.002997   \n",
        " 0.003996   \n",
        " 0.004995   \n",
        " 0.00599401 \n",
        " 0.00699301 \n",
        " 0.00799201 \n",
        " 0.00899101 \n",
        " 0.00999001 \n",
        " 0.010989   \n",
        " 0.011988   \n",
        " 0.012987   \n",
        " \u22ee          \n",
        " 0.988012   \n",
        " 0.989011   \n",
        " 0.99001    \n",
        " 0.991009   \n",
        " 0.992008   \n",
        " 0.993007   \n",
        " 0.994006   \n",
        " 0.995005   \n",
        " 0.996004   \n",
        " 0.997003   \n",
        " 0.998002   \n",
        " 0.999001   "
       ]
      }
     ],
     "prompt_number": 16
    },
    {
     "cell_type": "code",
     "collapsed": false,
     "input": [
      "# 8. Create a random vector of size 100 and sort it\n",
      "Z = rand(100)\n",
      "sort(Z) # returns a sorted copy of Z; leaves Z unchanged\n",
      "\n",
      "# Alternate solution\n",
      "# Author: Leah Hanson\n",
      "Z = rand(100)\n",
      "sort!(Z) # sorts Z in-place; returns Z"
     ],
     "language": "python",
     "metadata": {},
     "outputs": [
      {
       "metadata": {},
       "output_type": "pyout",
       "prompt_number": 17,
       "text": [
        "100-element Array{Float64,1}:\n",
        " 0.00756269\n",
        " 0.0183331 \n",
        " 0.0208966 \n",
        " 0.0277428 \n",
        " 0.0357519 \n",
        " 0.0430647 \n",
        " 0.04657   \n",
        " 0.0492546 \n",
        " 0.0593934 \n",
        " 0.0753112 \n",
        " 0.0781024 \n",
        " 0.148457  \n",
        " 0.149797  \n",
        " \u22ee         \n",
        " 0.875379  \n",
        " 0.889445  \n",
        " 0.919031  \n",
        " 0.924587  \n",
        " 0.92498   \n",
        " 0.927267  \n",
        " 0.938203  \n",
        " 0.941541  \n",
        " 0.947258  \n",
        " 0.949715  \n",
        " 0.958661  \n",
        " 0.973472  "
       ]
      }
     ],
     "prompt_number": 17
    },
    {
     "cell_type": "code",
     "collapsed": false,
     "input": [
      "# 9. Consider two random matrices A anb B, check if they are equal.\n",
      "A = rand(0:2, 2,2)\n",
      "B = rand(0:2, 2,2)\n",
      "A == B"
     ],
     "language": "python",
     "metadata": {},
     "outputs": [
      {
       "metadata": {},
       "output_type": "pyout",
       "prompt_number": 18,
       "text": [
        "false"
       ]
      }
     ],
     "prompt_number": 18
    },
    {
     "cell_type": "code",
     "collapsed": false,
     "input": [
      "# 10. Create a random vector of size 1000 and find the mean value\n",
      "Z = rand(1000)\n",
      "m = mean(Z)"
     ],
     "language": "python",
     "metadata": {},
     "outputs": [
      {
       "metadata": {},
       "output_type": "pyout",
       "prompt_number": 19,
       "text": [
        "0.49899609814109064"
       ]
      }
     ],
     "prompt_number": 19
    },
    {
     "cell_type": "code",
     "collapsed": false,
     "input": [
      "# Apprentice\n",
      "# 1. Make an array immutable (read-only)\n",
      "# nothing"
     ],
     "language": "python",
     "metadata": {},
     "outputs": [],
     "prompt_number": 20
    },
    {
     "cell_type": "code",
     "collapsed": false,
     "input": [
      "# 2. Consider a random 100x2 matrix representing cartesian coordinates, convert them to polar coordinates\n",
      "Z = rand(100,2)\n",
      "X, Y = Z[:,1], Z[:,2]\n",
      "R = sqrt(X'*X + Y'*Y)\n",
      "T = atan2(Y,X)"
     ],
     "language": "python",
     "metadata": {},
     "outputs": [
      {
       "metadata": {},
       "output_type": "pyout",
       "prompt_number": 21,
       "text": [
        "100-element Array{Float64,1}:\n",
        " 0.680795\n",
        " 1.06433 \n",
        " 0.945007\n",
        " 1.28034 \n",
        " 1.19764 \n",
        " 0.399242\n",
        " 0.11228 \n",
        " 0.556151\n",
        " 0.703101\n",
        " 1.55279 \n",
        " 1.22537 \n",
        " 1.43486 \n",
        " 0.610983\n",
        " \u22ee       \n",
        " 0.549956\n",
        " 0.169492\n",
        " 0.462022\n",
        " 0.632021\n",
        " 0.633589\n",
        " 0.539559\n",
        " 1.1692  \n",
        " 0.449327\n",
        " 0.846005\n",
        " 0.488989\n",
        " 1.06007 \n",
        " 1.50186 "
       ]
      }
     ],
     "prompt_number": 21
    },
    {
     "cell_type": "code",
     "collapsed": false,
     "input": [
      "# 3. Create random vector of size 100 and replace the maximum value by 0\n",
      "Z = rand(100)\n",
      "Z[indmax(Z)] = 0"
     ],
     "language": "python",
     "metadata": {},
     "outputs": [
      {
       "metadata": {},
       "output_type": "pyout",
       "prompt_number": 22,
       "text": [
        "0"
       ]
      }
     ],
     "prompt_number": 22
    },
    {
     "cell_type": "code",
     "collapsed": false,
     "input": [
      "# 4. Create a structured array with x and y coordinates covering the [0,1]x[0,1] area.\n",
      "# There is not exist `meshgrid` officially\n",
      "# see also. https://github.com/JuliaLang/julia/issues/4093\n",
      "# assume using https://github.com/JuliaLang/julia/blob/master/examples/ndgrid.jl\n",
      "include(\"/Applications/Julia-0.3.0-prerelease-547facf2c1.app/Contents/Resources/julia/share/julia/examples/ndgrid.jl\")\n",
      "X = linspace(0,1,10)\n",
      "Zx, Zy = meshgrid(X, X)\n",
      "\n",
      "# Another solution\n",
      "# Author: Alireza Nejati\n",
      "[(x,y) for x in linspace(0,1,10), y in linspace(0,1,10)]"
     ],
     "language": "python",
     "metadata": {},
     "outputs": [
      {
       "metadata": {},
       "output_type": "pyout",
       "prompt_number": 23,
       "text": [
        "10x10 Array{(Float64,Float64),2}:\n",
        " (0.0,0.0)                 \u2026  (0.0,1.0)               \n",
        " (0.1111111111111111,0.0)     (0.1111111111111111,1.0)\n",
        " (0.2222222222222222,0.0)     (0.2222222222222222,1.0)\n",
        " (0.3333333333333333,0.0)     (0.3333333333333333,1.0)\n",
        " (0.4444444444444444,0.0)     (0.4444444444444444,1.0)\n",
        " (0.5555555555555556,0.0)  \u2026  (0.5555555555555556,1.0)\n",
        " (0.6666666666666666,0.0)     (0.6666666666666666,1.0)\n",
        " (0.7777777777777778,0.0)     (0.7777777777777778,1.0)\n",
        " (0.8888888888888888,0.0)     (0.8888888888888888,1.0)\n",
        " (1.0,0.0)                    (1.0,1.0)               "
       ]
      }
     ],
     "prompt_number": 23
    },
    {
     "cell_type": "code",
     "collapsed": false,
     "input": [
      "# 5. Print the minimum and maximum representable value for each Julia scalar type\n",
      "for dtype in (Int8, Int16, Int32, Int64)\n",
      "    println(typemin(dtype))\n",
      "    println(typemax(dtype))\n",
      "end\n",
      "\n",
      "# Another solution\n",
      "# Author: harven\n",
      "print(map!(t -> (typemin(t),typemax(t)), subtypes(Signed)))\n",
      "\n",
      "# typemin, typemax returns -Inf, Inf\n",
      "for dtype in (Float32, Float64)\n",
      "    println(typemin(dtype))\n",
      "    println(typemax(dtype))\n",
      "    println(eps(dtype))\n",
      "end"
     ],
     "language": "python",
     "metadata": {},
     "outputs": [
      {
       "output_type": "stream",
       "stream": "stdout",
       "text": [
        "-128\n"
       ]
      },
      {
       "output_type": "stream",
       "stream": "stdout",
       "text": [
        "127\n",
        "-32768\n",
        "32767\n",
        "-2147483648\n",
        "2147483647\n",
        "-9223372036854775808\n",
        "9223372036854775807\n",
        "{"
       ]
      },
      {
       "output_type": "stream",
       "stream": "stdout",
       "text": [
        "(-170141183460469231731687303715884105728,170141183460469231731687303715884105727),(-32768,32767),(-2147483648,2147483647),(-9223372036854775808,9223372036854775807),(-128,127)}-"
       ]
      },
      {
       "output_type": "stream",
       "stream": "stdout",
       "text": [
        "Inf\n",
        "Inf\n",
        "1.1920929e-7\n",
        "-Inf\n",
        "Inf\n",
        "2.220446049250313e-16\n"
       ]
      }
     ],
     "prompt_number": 24
    },
    {
     "cell_type": "code",
     "collapsed": false,
     "input": [
      "# 6. Create a structured array representing a position (x,y) and a color (r,g,b)\n",
      "# Julia doesn't have StructArray\n",
      "# see also: https://github.com/JuliaLang/julia/issues/1263\n",
      "# use DataFrames"
     ],
     "language": "python",
     "metadata": {},
     "outputs": [],
     "prompt_number": 25
    },
    {
     "cell_type": "code",
     "collapsed": false,
     "input": [
      "# 7. Consider a random vector with shape (100,2) representing coordinates, find point by point distances\n",
      "Z = rand(10,2)\n",
      "X,Y = Z[:,1], Z[:,2]\n",
      "D = sqrtm((X.-X.')^2 + (Y .- Y.')^2)"
     ],
     "language": "python",
     "metadata": {},
     "outputs": [
      {
       "metadata": {},
       "output_type": "pyout",
       "prompt_number": 26,
       "text": [
        "10x10 Array{Complex{Float64},2}:\n",
        "   1.69571e-8+0.953213im   \u2026  -3.32399e-12+0.191158im\n",
        "  -2.80425e-9+0.301504im       -3.06405e-9+0.577376im\n",
        "   2.63372e-9-0.0708277im      -1.89942e-9+0.58888im \n",
        "  -2.08524e-9+0.36649im        -1.91705e-9+0.501579im\n",
        "  -2.40449e-9+0.30685im        1.96771e-10+0.206919im\n",
        "  -6.56365e-9+0.847644im   \u2026     1.4585e-9+0.148757im\n",
        "  5.05201e-10+0.0428258im      -1.68456e-9+0.25701im \n",
        "  -6.96441e-9+1.13758im       -2.84573e-10+0.18198im \n",
        "  7.29371e-10-0.225417im         1.8764e-9+0.6661im  \n",
        " -3.32399e-12+0.191158im        5.32131e-9+0.531264im"
       ]
      }
     ],
     "prompt_number": 26
    },
    {
     "cell_type": "code",
     "collapsed": false,
     "input": [
      "# 8. Generate a generic 2D Gaussian-like array\n",
      "X, Y = meshgrid(linspace(-1,1,100),linspace(-1,1,100))\n",
      "D = sqrtm(X*X + Y*Y)\n",
      "sigma, mu = 1.0, 0.0\n",
      "G = exp(-( (D.-mu)^2 / ( 2.0 * sigma^2 ) ) )\n",
      "\n",
      "\n",
      "# Another solution\n",
      "# Author: Billou Beilour\n",
      "sigma, mu = 1.0, 0.0\n",
      "G = [ exp(-(x-mu).^2/(2.0*sigma^2) -(y-mu).^2/(2.0*sigma^2) ) for x in linspace(-1,1,100), y in linspace(-1,1,100) ]\n",
      "\n",
      "# One more solution\n",
      "# Author: Billou Beilour\n",
      "sigma, mu = 1.0, 0.0\n",
      "x,y = linspace(-1,1,100), linspace(-1,1,100)\n",
      "G = zeros(length(x),length(y))\n",
      "\n",
      "for i in 1:length(x), j in 1:length(y)\n",
      "    G[i,j] = exp(-(x[i]-mu).^2/(2.0*sigma^2) -(y[j]-mu).^2/(2.0*sigma^2) )\n",
      "end"
     ],
     "language": "python",
     "metadata": {},
     "outputs": [],
     "prompt_number": 27
    },
    {
     "cell_type": "code",
     "collapsed": false,
     "input": [
      "# 9. Consider the vector [1, 2, 3, 4, 5], how to build a new vector with 3 consecutive zeros interleaved between each value ?\n",
      "Z = [1,2,3,4,5]\n",
      "nz = 3\n",
      "Z0 = zeros(length(Z) + (length(Z)-1)*(nz))\n",
      "Z0[1:nz+1:end] = Z"
     ],
     "language": "python",
     "metadata": {},
     "outputs": [
      {
       "metadata": {},
       "output_type": "pyout",
       "prompt_number": 28,
       "text": [
        "5-element Array{Int64,1}:\n",
        " 1\n",
        " 2\n",
        " 3\n",
        " 4\n",
        " 5"
       ]
      }
     ],
     "prompt_number": 28
    },
    {
     "cell_type": "code",
     "collapsed": false,
     "input": [
      "# 10. Find the nearest value from a given value in an array\n",
      "Z = [3,6,9,12,15]\n",
      "Z[indmin(abs(Z .- 10))]"
     ],
     "language": "python",
     "metadata": {},
     "outputs": [
      {
       "metadata": {},
       "output_type": "pyout",
       "prompt_number": 29,
       "text": [
        "9"
       ]
      }
     ],
     "prompt_number": 29
    },
    {
     "cell_type": "code",
     "collapsed": false,
     "input": [
      "# Journyman\n",
      "# 1. Consider the following file:\n",
      "# 1,2,3,4,5\n",
      "# 6,,,7,8\n",
      "# ,,9,10,11\n",
      "# How to read it ?\n",
      "using DataFrames\n",
      "readtable(\"missing.dat\")"
     ],
     "language": "python",
     "metadata": {},
     "outputs": [
      {
       "html": [
        "<table><tr><th></th><th>x1</th><th>x2</th><th>x3</th><th>x4</th><th>x5</th></tr><tr><th>1</th><td>6</td><td>NA</td><td>NA</td><td>7</td><td>8</td></tr><tr><th>2</th><td>NA</td><td>NA</td><td>9</td><td>10</td><td>11</td></tr></table>"
       ],
       "metadata": {},
       "output_type": "pyout",
       "prompt_number": 30,
       "text": [
        "2x5 DataFrame\n",
        "|-------|----|----|----|----|----|\n",
        "| Row # | x1 | x2 | x3 | x4 | x5 |\n",
        "| 1     | 6  | NA | NA | 7  | 8  |\n",
        "| 2     | NA | NA | 9  | 10 | 11 |"
       ]
      }
     ],
     "prompt_number": 30
    },
    {
     "cell_type": "code",
     "collapsed": false,
     "input": [
      "# 2. Consider a generator function that generates 10 integers and use it to build an array\n",
      "# I can't translate this question"
     ],
     "language": "python",
     "metadata": {},
     "outputs": [],
     "prompt_number": 31
    },
    {
     "cell_type": "code",
     "collapsed": false,
     "input": [
      "# 3. Consider a given vector, how to add 1 to each element indexed by a second vector (be careful with repeated indices) ?\n",
      "using StatsBase\n",
      "Z = ones(10)\n",
      "I = rand(0:length(Z), 20)\n",
      "Z += counts(I, 1:length(Z))"
     ],
     "language": "python",
     "metadata": {},
     "outputs": [
      {
       "metadata": {},
       "output_type": "pyout",
       "prompt_number": 32,
       "text": [
        "10-element Array{Float64,1}:\n",
        " 1.0\n",
        " 5.0\n",
        " 3.0\n",
        " 2.0\n",
        " 3.0\n",
        " 3.0\n",
        " 4.0\n",
        " 2.0\n",
        " 3.0\n",
        " 2.0"
       ]
      }
     ],
     "prompt_number": 32
    },
    {
     "cell_type": "code",
     "collapsed": false,
     "input": [
      "# 4. How to accumulate elements of a vector (X) to an array (F) based on an index list (I) ?\n",
      "using StatsBase\n",
      "X = WeightVec([1,2,3,4,5,6])\n",
      "I = [1,3,9,3,4,1]\n",
      "F = counts(I, maximum(I), X)"
     ],
     "language": "python",
     "metadata": {},
     "outputs": [
      {
       "metadata": {},
       "output_type": "pyout",
       "prompt_number": 33,
       "text": [
        "9-element Array{Int64,1}:\n",
        " 7\n",
        " 0\n",
        " 6\n",
        " 5\n",
        " 0\n",
        " 0\n",
        " 0\n",
        " 0\n",
        " 3"
       ]
      }
     ],
     "prompt_number": 33
    },
    {
     "cell_type": "code",
     "collapsed": false,
     "input": [
      "# 5. Considering a (w,h,3) image of (dtype=ubyte), compute the number of unique colors\n",
      "w,h = 16,16\n",
      "I = convert(Array{Uint8}, rand(0:2, (h,w,3)))\n",
      "F = I[:,:,1] * 256 * 256 + I[:,:,2]*256 + I[:,:,3]\n",
      "n = length(unique(F))\n",
      "unique(I)"
     ],
     "language": "python",
     "metadata": {},
     "outputs": [
      {
       "metadata": {},
       "output_type": "pyout",
       "prompt_number": 34,
       "text": [
        "3-element Array{Uint8,1}:\n",
        " 0x00\n",
        " 0x02\n",
        " 0x01"
       ]
      }
     ],
     "prompt_number": 34
    },
    {
     "cell_type": "code",
     "collapsed": false,
     "input": [
      "# 6. Considering a four dimensions array, how to get sum over the last two axis at once ?\n",
      "A = rand(0:10, (3,4,3,4))\n",
      "x,y = size(A)[1:end-2]\n",
      "z = prod(size(A)[end-1:end])\n",
      "calc_sum = sum(reshape(A, (x,y,z)),3)"
     ],
     "language": "python",
     "metadata": {},
     "outputs": [
      {
       "metadata": {},
       "output_type": "pyout",
       "prompt_number": 35,
       "text": [
        "3x4x1 Array{Int64,3}:\n",
        "[:, :, 1] =\n",
        " 68  50  52  50\n",
        " 50  61  62  68\n",
        " 57  61  66  54"
       ]
      }
     ],
     "prompt_number": 35
    },
    {
     "cell_type": "code",
     "collapsed": false,
     "input": [
      "# 7. Considering a one-dimensional vector D, how to compute means of subsets of D using a vector S of same size describing subset indices ?\n",
      "using StatsBase\n",
      "D = WeightVec(rand(100))\n",
      "S = rand(0:10,100)\n",
      "D_sums = counts(S, maximum(S), D)\n",
      "D_counts = counts(S, maximum(S))\n",
      "D_means = D_sums ./ D_counts"
     ],
     "language": "python",
     "metadata": {},
     "outputs": [
      {
       "metadata": {},
       "output_type": "pyout",
       "prompt_number": 36,
       "text": [
        "10-element Array{Float64,1}:\n",
        " 0.580924\n",
        " 0.72143 \n",
        " 0.481425\n",
        " 0.334204\n",
        " 0.52881 \n",
        " 0.32085 \n",
        " 0.540421\n",
        " 0.573645\n",
        " 0.593741\n",
        " 0.479465"
       ]
      }
     ],
     "prompt_number": 36
    },
    {
     "cell_type": "code",
     "collapsed": false,
     "input": [
      "# Craftsman\n",
      "# 1. Consider a one-dimensional array Z, build a two-dimensional array whose first row is (Z[0],Z[1],Z[2]) and each subsequent row is shifted by 1 (last row should be (Z[-3],Z[-2],Z[-1])\n",
      "# I don't find any function like stride_tricks.as_stride\n",
      "function rolling(A, window)\n",
      "       Z = zeros(length(A)-2, window)\n",
      "       for i in 1:(length(A) - window +1)\n",
      "           Z[i,:] = A[i:i+2]\n",
      "       end\n",
      "       return Z\n",
      "end\n",
      "\n",
      "rolling(0:100, 3)"
     ],
     "language": "python",
     "metadata": {},
     "outputs": [
      {
       "metadata": {},
       "output_type": "pyout",
       "prompt_number": 37,
       "text": [
        "99x3 Array{Float64,2}:\n",
        "  0.0   1.0    2.0\n",
        "  1.0   2.0    3.0\n",
        "  2.0   3.0    4.0\n",
        "  3.0   4.0    5.0\n",
        "  4.0   5.0    6.0\n",
        "  5.0   6.0    7.0\n",
        "  6.0   7.0    8.0\n",
        "  7.0   8.0    9.0\n",
        "  8.0   9.0   10.0\n",
        "  9.0  10.0   11.0\n",
        " 10.0  11.0   12.0\n",
        " 11.0  12.0   13.0\n",
        " 12.0  13.0   14.0\n",
        "  \u22ee               \n",
        " 87.0  88.0   89.0\n",
        " 88.0  89.0   90.0\n",
        " 89.0  90.0   91.0\n",
        " 90.0  91.0   92.0\n",
        " 91.0  92.0   93.0\n",
        " 92.0  93.0   94.0\n",
        " 93.0  94.0   95.0\n",
        " 94.0  95.0   96.0\n",
        " 95.0  96.0   97.0\n",
        " 96.0  97.0   98.0\n",
        " 97.0  98.0   99.0\n",
        " 98.0  99.0  100.0"
       ]
      }
     ],
     "prompt_number": 37
    },
    {
     "cell_type": "code",
     "collapsed": false,
     "input": [
      "# 2. Consider a set of 100 triplets describing 100 triangles (with shared vertices), find the set of unique line segments composing all the triangles.\n",
      "\n",
      "faces = rand(0:100, 100, 3)\n",
      "face2 = kron(faces,[1 1])\n",
      "\n",
      "F = circshift(sortcols(face2),(0,1))\n",
      "F = reshape(F, (convert(Int64,length(F)/2),2))\n",
      "F = sort(F,2)\n",
      "G = unique(F,1)"
     ],
     "language": "python",
     "metadata": {},
     "outputs": [
      {
       "metadata": {},
       "output_type": "pyout",
       "prompt_number": 38,
       "text": [
        "288x2 Array{Int64,2}:\n",
        " 48   90\n",
        " 27   91\n",
        " 34   51\n",
        " 42   77\n",
        " 54   58\n",
        " 46   69\n",
        " 19   68\n",
        " 29   97\n",
        " 49   54\n",
        " 21   64\n",
        " 28   90\n",
        "  1    7\n",
        "  9   40\n",
        "  \u22ee     \n",
        " 82   86\n",
        " 45   80\n",
        " 50   61\n",
        " 87   91\n",
        " 26   80\n",
        " 28   82\n",
        " 43   63\n",
        "  0   77\n",
        " 16   31\n",
        "  7  100\n",
        " 32   53\n",
        " 25   97"
       ]
      }
     ],
     "prompt_number": 38
    },
    {
     "cell_type": "code",
     "collapsed": false,
     "input": [
      "# 3. Given an array C that is a bincount, how to produce an array A such that np.bincount(A) == C ?\n",
      "using StatsBase\n",
      "O = [1 1 2 3 4 4 6]\n",
      "C = counts(O, maximum(O))\n",
      "A = foldl(vcat,[kron(ones(Int64, C[i]), i) for i in 1:length(C)])"
     ],
     "language": "python",
     "metadata": {},
     "outputs": [
      {
       "metadata": {},
       "output_type": "pyout",
       "prompt_number": 39,
       "text": [
        "7-element Array{Int64,1}:\n",
        " 1\n",
        " 1\n",
        " 2\n",
        " 3\n",
        " 4\n",
        " 4\n",
        " 6"
       ]
      }
     ],
     "prompt_number": 39
    },
    {
     "cell_type": "code",
     "collapsed": false,
     "input": [
      "# 4. How to compute averages using a sliding window over an array ?\n",
      "function moving_average(A, n=3)\n",
      "           ret = cumsum(A)\n",
      "           ret[n+1:end] = ret[n+1:end] - ret[1:end-n]\n",
      "           return ret[n:end-1] / n\n",
      "end\n",
      "Z = 0:20\n",
      "moving_average(Z, 3)"
     ],
     "language": "python",
     "metadata": {},
     "outputs": [
      {
       "metadata": {},
       "output_type": "pyout",
       "prompt_number": 40,
       "text": [
        "18-element Array{Float64,1}:\n",
        "  1.0\n",
        "  2.0\n",
        "  3.0\n",
        "  4.0\n",
        "  5.0\n",
        "  6.0\n",
        "  7.0\n",
        "  8.0\n",
        "  9.0\n",
        " 10.0\n",
        " 11.0\n",
        " 12.0\n",
        " 13.0\n",
        " 14.0\n",
        " 15.0\n",
        " 16.0\n",
        " 17.0\n",
        " 18.0"
       ]
      }
     ],
     "prompt_number": 40
    },
    {
     "cell_type": "code",
     "collapsed": false,
     "input": [
      "# Artisan\n",
      "# 1. Considering a 100x3 matrix, extract rows with unequal values (e.g. [2,2,3])\n",
      "Z = rand(0:5,100,3)\n",
      "E = prod(Z[:,2:end] .== Z[:,1:end-1],2)\n",
      "U = Z[find(~E), :]"
     ],
     "language": "python",
     "metadata": {},
     "outputs": [
      {
       "metadata": {},
       "output_type": "pyout",
       "prompt_number": 41,
       "text": [
        "99x3 Array{Int64,2}:\n",
        " 3  2  5\n",
        " 2  5  3\n",
        " 1  4  5\n",
        " 5  0  3\n",
        " 3  2  5\n",
        " 1  0  3\n",
        " 5  5  4\n",
        " 2  1  2\n",
        " 4  0  3\n",
        " 2  3  0\n",
        " 1  2  0\n",
        " 3  4  3\n",
        " 4  1  0\n",
        " \u22ee      \n",
        " 1  5  2\n",
        " 4  0  3\n",
        " 4  1  0\n",
        " 3  3  2\n",
        " 2  5  2\n",
        " 5  4  2\n",
        " 0  2  5\n",
        " 3  2  4\n",
        " 5  5  4\n",
        " 4  5  1\n",
        " 1  2  5\n",
        " 3  4  5"
       ]
      }
     ],
     "prompt_number": 41
    },
    {
     "cell_type": "code",
     "collapsed": false,
     "input": [
      "# 2. Convert a vector of ints into a matrix binary representation.\n",
      "I = [0 1 2 3 15 16 32 64 128]\n",
      "B = foldl(hcat,[reverse(int(bool(i & (2 .^ (0:8))))) for i in I])'"
     ],
     "language": "python",
     "metadata": {},
     "outputs": [
      {
       "metadata": {},
       "output_type": "pyout",
       "prompt_number": 42,
       "text": [
        "9x9 Array{Int64,2}:\n",
        " 0  0  0  0  0  0  0  0  0\n",
        " 0  0  0  0  0  0  0  0  1\n",
        " 0  0  0  0  0  0  0  1  0\n",
        " 0  0  0  0  0  0  0  1  1\n",
        " 0  0  0  0  0  1  1  1  1\n",
        " 0  0  0  0  1  0  0  0  0\n",
        " 0  0  0  1  0  0  0  0  0\n",
        " 0  0  1  0  0  0  0  0  0\n",
        " 0  1  0  0  0  0  0  0  0"
       ]
      }
     ],
     "prompt_number": 42
    },
    {
     "cell_type": "code",
     "collapsed": false,
     "input": [
      "# Adept\n",
      "# 1. Consider an arbitrary array, write a function that extract a subpart with a fixed shape and centered on a given element (pad with a fill value when necessary)\n",
      "# TBS"
     ],
     "language": "python",
     "metadata": {},
     "outputs": [],
     "prompt_number": 43
    },
    {
     "cell_type": "code",
     "collapsed": false,
     "input": [
      "# Expert\n",
      "# 1. Consider two arrays A and B of shape (8,3) and (2,2). How to find rows of A that contain elements of each row of B regardless of the order of the elements in B ?\n",
      "# I can't execute numpy version..."
     ],
     "language": "python",
     "metadata": {},
     "outputs": [],
     "prompt_number": 44
    },
    {
     "cell_type": "code",
     "collapsed": false,
     "input": [
      "# 2. Extract all the contiguous 3x3 blocks from a random 10x10 matrix.\n",
      "# TBS"
     ],
     "language": "python",
     "metadata": {},
     "outputs": [],
     "prompt_number": 45
    },
    {
     "cell_type": "code",
     "collapsed": false,
     "input": [
      "# 3. Extract all the contiguous 3x3 blocks from a random 10x10 matrix.\n",
      "# There is Symmetric class in julia but immutable\n",
      "# https://github.com/JuliaLang/julia/blob/master/base/linalg/symmetric.jl\n",
      "# See also: https://github.com/JuliaLang/julia/pull/1533"
     ],
     "language": "python",
     "metadata": {},
     "outputs": [],
     "prompt_number": 46
    },
    {
     "cell_type": "code",
     "collapsed": false,
     "input": [
      "# 4. Consider a set of p matrices wich shape (n,n) and a set of p vectors with shape (n,1). How to compute the sum of of the p matrix products at once ? (result has shape (n,1))\n",
      "# TBS"
     ],
     "language": "python",
     "metadata": {},
     "outputs": [],
     "prompt_number": 47
    },
    {
     "cell_type": "code",
     "collapsed": false,
     "input": [
      "# Master\n",
      "# 1. Given a two dimensional array, how to extract unique rows ?\n",
      "Z = rand(0:2, 6,3)\n",
      "uZ = unique(Z,1)"
     ],
     "language": "python",
     "metadata": {},
     "outputs": [
      {
       "metadata": {},
       "output_type": "pyout",
       "prompt_number": 48,
       "text": [
        "5x3 Array{Int64,2}:\n",
        " 1  0  2\n",
        " 1  1  0\n",
        " 1  2  2\n",
        " 0  2  2\n",
        " 0  0  0"
       ]
      }
     ],
     "prompt_number": 48
    }
   ],
   "metadata": {}
  }
 ]
}