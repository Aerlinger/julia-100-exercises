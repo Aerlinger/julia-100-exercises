{
 "metadata": {
  "language": "Julia",
  "name": "",
  "signature": "sha256:7a8a11f4d155515d7baab97c3ed3bc739a3abde1c077826bc2ef2b80308bd660"
 },
 "nbformat": 3,
 "nbformat_minor": 0,
 "worksheets": [
  {
   "cells": [
    {
     "cell_type": "code",
     "collapsed": false,
     "input": [
      "# 2. Print the julia version\n",
      "VERSION"
     ],
     "language": "python",
     "metadata": {},
     "outputs": [
      {
       "metadata": {},
       "output_type": "pyout",
       "prompt_number": 2,
       "text": [
        "v\"0.3.0-prerelease+3551\""
       ]
      }
     ],
     "prompt_number": 2
    },
    {
     "cell_type": "code",
     "collapsed": false,
     "input": [
      "# 3. Create a null vector of size 10\n",
      "Z = zeros(10)"
     ],
     "language": "python",
     "metadata": {},
     "outputs": [
      {
       "metadata": {},
       "output_type": "pyout",
       "prompt_number": 3,
       "text": [
        "10-element Array{Float64,1}:\n",
        " 0.0\n",
        " 0.0\n",
        " 0.0\n",
        " 0.0\n",
        " 0.0\n",
        " 0.0\n",
        " 0.0\n",
        " 0.0\n",
        " 0.0\n",
        " 0.0"
       ]
      }
     ],
     "prompt_number": 3
    },
    {
     "cell_type": "code",
     "collapsed": false,
     "input": [
      "# 4. Create a null vector of size 10 but the fifth value which is 1\n",
      "Z = zeros(10)\n",
      "Z[5] = 1\n",
      "Z"
     ],
     "language": "python",
     "metadata": {},
     "outputs": [
      {
       "metadata": {},
       "output_type": "pyout",
       "prompt_number": 4,
       "text": [
        "10-element Array{Float64,1}:\n",
        " 0.0\n",
        " 0.0\n",
        " 0.0\n",
        " 0.0\n",
        " 1.0\n",
        " 0.0\n",
        " 0.0\n",
        " 0.0\n",
        " 0.0\n",
        " 0.0"
       ]
      }
     ],
     "prompt_number": 4
    },
    {
     "cell_type": "code",
     "collapsed": false,
     "input": [
      "# 5. Create a vector with values ranging from 10 to 99\n",
      "Z = [10:99]\n"
     ],
     "language": "python",
     "metadata": {},
     "outputs": [
      {
       "metadata": {},
       "output_type": "pyout",
       "prompt_number": 5,
       "text": [
        "90-element Array{Int64,1}:\n",
        " 10\n",
        " 11\n",
        " 12\n",
        " 13\n",
        " 14\n",
        " 15\n",
        " 16\n",
        " 17\n",
        " 18\n",
        " 19\n",
        " 20\n",
        " 21\n",
        " 22\n",
        "  \u22ee\n",
        " 88\n",
        " 89\n",
        " 90\n",
        " 91\n",
        " 92\n",
        " 93\n",
        " 94\n",
        " 95\n",
        " 96\n",
        " 97\n",
        " 98\n",
        " 99"
       ]
      }
     ],
     "prompt_number": 5
    },
    {
     "cell_type": "code",
     "collapsed": false,
     "input": [
      "# 6. Create a 3x3 matrix with values ranging from 0 to 8\n",
      "Z = reshape(0:8, 3, 3)"
     ],
     "language": "python",
     "metadata": {},
     "outputs": [
      {
       "metadata": {},
       "output_type": "pyout",
       "prompt_number": 6,
       "text": [
        "3x3 Array{Int64,2}:\n",
        " 0  3  6\n",
        " 1  4  7\n",
        " 2  5  8"
       ]
      }
     ],
     "prompt_number": 6
    },
    {
     "cell_type": "code",
     "collapsed": false,
     "input": [
      "# 7. Find indices of non-zero elements from [1,2,0,0,4,0]\n",
      "nz = find([1,2,0,0,4,0])"
     ],
     "language": "python",
     "metadata": {},
     "outputs": [
      {
       "metadata": {},
       "output_type": "pyout",
       "prompt_number": 7,
       "text": [
        "3-element Array{Int64,1}:\n",
        " 1\n",
        " 2\n",
        " 5"
       ]
      }
     ],
     "prompt_number": 7
    },
    {
     "cell_type": "code",
     "collapsed": false,
     "input": [
      "# 8. Create a 3x3 identity matrix\n",
      "Z = eye(3)"
     ],
     "language": "python",
     "metadata": {},
     "outputs": [
      {
       "metadata": {},
       "output_type": "pyout",
       "prompt_number": 8,
       "text": [
        "3x3 Array{Float64,2}:\n",
        " 1.0  0.0  0.0\n",
        " 0.0  1.0  0.0\n",
        " 0.0  0.0  1.0"
       ]
      }
     ],
     "prompt_number": 8
    },
    {
     "cell_type": "code",
     "collapsed": false,
     "input": [
      "# 9. Create a 5x5 matrix with values 1,2,3,4 just below the diagonal\n",
      "Z = diagm(1:4, -1)"
     ],
     "language": "python",
     "metadata": {},
     "outputs": [
      {
       "metadata": {},
       "output_type": "pyout",
       "prompt_number": 9,
       "text": [
        "5x5 Array{Int64,2}:\n",
        " 0  0  0  0  0\n",
        " 1  0  0  0  0\n",
        " 0  2  0  0  0\n",
        " 0  0  3  0  0\n",
        " 0  0  0  4  0"
       ]
      }
     ],
     "prompt_number": 9
    },
    {
     "cell_type": "code",
     "collapsed": false,
     "input": [
      "# 10. Create a 10x10x10 array with random values\n",
      "rand(10, 10, 10)"
     ],
     "language": "python",
     "metadata": {},
     "outputs": [
      {
       "metadata": {},
       "output_type": "pyout",
       "prompt_number": 10,
       "text": [
        "10x10x10 Array{Float64,3}:\n",
        "[:, :, 1] =\n",
        " 0.699742   0.802402  0.696269   0.146794   \u2026  0.285551  0.0848147  0.488681 \n",
        " 0.593141   0.675171  0.510824   0.294245      0.84682   0.968245   0.785908 \n",
        " 0.813343   0.285537  0.0987048  0.98021       0.469341  0.296745   0.577697 \n",
        " 0.0410678  0.557008  0.435528   0.514715      0.112316  0.566282   0.732856 \n",
        " 0.384457   0.458923  0.410977   0.799933      0.987823  0.883505   0.0839782\n",
        " 0.676647   0.94194   0.237817   0.143853   \u2026  0.527213  0.111031   0.578307 \n",
        " 0.411719   0.575379  0.78421    0.0349988     0.941763  0.779398   0.825066 \n",
        " 0.709292   0.828258  0.410241   0.038132      0.346922  0.767249   0.422067 \n",
        " 0.712564   0.957353  0.912769   0.656779      0.521875  0.189636   0.184014 \n",
        " 0.455465   0.425085  0.0764597  0.898222      0.317074  0.593038   0.909569 \n",
        "\n",
        "[:, :, 2] =\n",
        " 0.746156   0.874122  0.715413   \u2026  0.512986    0.385102   0.713348 \n",
        " 0.133512   0.68236   0.578481      0.46243     0.332396   0.401242 \n",
        " 0.39271    0.96369   0.348755      0.00396464  0.915003   0.582971 \n",
        " 0.0306673  0.110737  0.241322      0.382245    0.0933253  0.474997 \n",
        " 0.638327   0.842854  0.694081      0.191685    0.182994   0.0673626\n",
        " 0.448335   0.198779  0.788449   \u2026  0.667434    0.499984   0.816426 \n",
        " 0.847993   0.329926  0.715277      0.517789    0.326622   0.0650089\n",
        " 0.178712   0.682295  0.0958202     0.11723     0.477715   0.562909 \n",
        " 0.416066   0.259761  0.481267      0.33828     0.220926   0.938156 \n",
        " 0.789091   0.95343   0.463458      0.501035    0.256131   0.840156 \n",
        "\n",
        "[:, :, 3] =\n",
        " 0.676009   0.213526   0.280881  \u2026  0.304635  0.0364853  0.00792767\n",
        " 0.0935079  0.172634   0.423747     0.890473  0.972336   0.504628  \n",
        " 0.606625   0.727498   0.42852      0.285281  0.70321    0.673234  \n",
        " 0.337341   0.466541   0.387605     0.805796  0.584213   0.716138  \n",
        " 0.963691   0.736477   0.868422     0.247504  0.777358   0.512497  \n",
        " 0.934784   0.979917   0.595282  \u2026  0.381664  0.991554   0.0566379 \n",
        " 0.540188   0.315623   0.765616     0.942595  0.730408   0.414309  \n",
        " 0.607273   0.0202458  0.504775     0.11592   0.152542   0.928612  \n",
        " 0.573281   0.162043   0.558861     0.141524  0.01167    0.796988  \n",
        " 0.949159   0.364621   0.341733     0.799552  0.210698   0.579958  \n",
        "\n",
        "[:, :, 4] =\n",
        " 0.191299   0.825893   0.862214   0.522149   \u2026  0.670948  0.138808   0.896948\n",
        " 0.024814   0.927144   0.682234   0.165684      0.266412  0.382465   0.343868\n",
        " 0.284668   0.545608   0.8653     0.0693961     0.496813  0.645972   0.431165\n",
        " 0.760497   0.375174   0.103359   0.664208      0.810545  0.502674   0.912753\n",
        " 0.474137   0.416929   0.940262   0.45974       0.52885   0.379399   0.807294\n",
        " 0.925434   0.0652312  0.895008   0.45088    \u2026  0.472899  0.986578   0.777251\n",
        " 0.521583   0.543846   0.130635   0.174117      0.471282  0.182555   0.21343 \n",
        " 0.719074   0.88975    0.584428   0.779775      0.691404  0.202998   0.13921 \n",
        " 0.0372374  0.87176    0.0411309  0.179498      0.736309  0.781653   0.839254\n",
        " 0.937783   0.354989   0.414426   0.78761       0.477476  0.0191487  0.752749\n",
        "\n",
        "[:, :, 5] =\n",
        " 0.614058   0.630236  0.34982   0.0307493  \u2026  0.38617    0.884431   0.0981794\n",
        " 0.705923   0.114462  0.553166  0.789921      0.454034   0.925768   0.903558 \n",
        " 0.188269   0.78342   0.587328  0.298423      0.755679   0.285226   0.812148 \n",
        " 0.749307   0.361008  0.635586  0.637536      0.929809   0.419447   0.358698 \n",
        " 0.806988   0.175612  0.234554  0.770193      0.921817   0.904903   0.794487 \n",
        " 0.842052   0.72725   0.80305   0.671246   \u2026  0.811716   0.15621    0.989344 \n",
        " 0.0642727  0.286419  0.259469  0.0534691     0.145127   0.0368393  0.439607 \n",
        " 0.984424   0.370604  0.621539  0.386626      0.318444   0.525542   0.705629 \n",
        " 0.285829   0.927324  0.057995  0.658639      0.87289    0.263427   0.876457 \n",
        " 0.761951   0.361637  0.97771   0.805814      0.0118788  0.55198    0.623959 \n",
        "\n",
        "[:, :, 6] =\n",
        " 0.0837317  0.679001  0.840377  0.136629  \u2026  0.850433  0.834167   0.991451\n",
        " 0.959633   0.569697  0.344792  0.420001     0.921624  0.10798    0.400731\n",
        " 0.620782   0.894225  0.97717   0.770047     0.732873  0.454545   0.450083\n",
        " 0.10325    0.725396  0.700814  0.89629      0.53827   0.0908591  0.69253 \n",
        " 0.280758   0.940176  0.486944  0.341677     0.443953  0.374238   0.26984 \n",
        " 0.989486   0.503745  0.845391  0.842076  \u2026  0.300801  0.43569    0.415785\n",
        " 0.981853   0.363045  0.542112  0.147627     0.765937  0.457582   0.790856\n",
        " 0.860947   0.258609  0.935875  0.198632     0.869431  0.693408   0.044682\n",
        " 0.817865   0.864727  0.767028  0.349703     0.558288  0.658131   0.718717\n",
        " 0.531179   0.204611  0.286549  0.868044     0.758233  0.353784   0.143606\n",
        "\n",
        "[:, :, 7] =\n",
        " 0.896602   0.743216  0.41074   0.487119   \u2026  0.723341   0.0365365  0.550766 \n",
        " 0.194877   0.52609   0.520947  0.986515      0.503834   0.185918   0.162453 \n",
        " 0.93591    0.903843  0.592867  0.990942      0.109702   0.518158   0.680658 \n",
        " 0.888701   0.86662   0.759223  0.27338       0.126562   0.113757   0.0375472\n",
        " 0.799517   0.606471  0.106294  0.437784      0.937423   0.704931   0.952251 \n",
        " 0.0694022  0.956677  0.273373  0.0694605  \u2026  0.563084   0.459075   0.0140917\n",
        " 0.636503   0.9831    0.697445  0.875382      0.0491588  0.538312   0.588522 \n",
        " 0.796761   0.663719  0.435887  0.099294      0.628429   0.912087   0.176822 \n",
        " 0.308643   0.800783  0.8281    0.188864      0.098326   0.813402   0.540628 \n",
        " 0.436044   0.702454  0.582609  0.66164       0.301151   0.604012   0.901963 \n",
        "\n",
        "[:, :, 8] =\n",
        " 0.196116   0.934641   0.0494259  0.445247   \u2026  0.252996  0.639922  0.702537 \n",
        " 0.364475   0.619627   0.40655    0.459632      0.240051  0.628436  0.638238 \n",
        " 0.325906   0.322544   0.692878   0.748781      0.649156  0.887176  0.757913 \n",
        " 0.0108058  0.389483   0.878933   0.388397      0.819489  0.902488  0.662343 \n",
        " 0.422589   0.0220914  0.431901   0.260674      0.864493  0.125759  0.60306  \n",
        " 0.430403   0.562475   0.438962   0.573404   \u2026  0.420375  0.119068  0.380583 \n",
        " 0.743415   0.0423867  0.120325   0.808487      0.682811  0.566065  0.941972 \n",
        " 0.655095   0.885273   0.832078   0.0965992     0.372513  0.150296  0.0571778\n",
        " 0.247966   0.901915   0.736597   0.4561        0.559292  0.948256  0.0108802\n",
        " 0.786403   0.22076    0.622469   0.915426      0.169833  0.191163  0.212762 \n",
        "\n",
        "[:, :, 9] =\n",
        " 0.567609  0.614845  0.923784   0.777367   \u2026  0.0169395  0.947378  0.463229\n",
        " 0.323641  0.1944    0.838405   0.0608425     0.742924   0.974487  0.780518\n",
        " 0.329282  0.045455  0.859388   0.225089      0.109174   0.451413  0.652889\n",
        " 0.376962  0.51292   0.508471   0.601938      0.333209   0.902291  0.534663\n",
        " 0.513779  0.993022  0.469369   0.270466      0.853066   0.806211  0.493504\n",
        " 0.372819  0.981577  0.950578   0.035208   \u2026  0.0273654  0.76994   0.42931 \n",
        " 0.266887  0.079747  0.0141791  0.409983      0.412332   0.333671  0.730009\n",
        " 0.615268  0.755149  0.182731   0.893828      0.946983   0.261286  0.610311\n",
        " 0.896262  0.347662  0.350731   0.184113      0.885031   0.801999  0.310199\n",
        " 0.657872  0.454326  0.300582   0.664285      0.343278   0.396564  0.869516\n",
        "\n",
        "[:, :, 10] =\n",
        " 0.433781  0.767043  0.272147   0.508517   \u2026  0.678058  0.519903  0.129717\n",
        " 0.220044  0.943575  0.242574   0.787827      0.998007  0.670081  0.660147\n",
        " 0.641255  0.571633  0.740625   0.387911      0.84638   0.427402  0.156505\n",
        " 0.615284  0.748135  0.223794   0.738523      0.598036  0.235244  0.688963\n",
        " 0.244064  0.985188  0.939255   0.0484207     0.636495  0.510182  0.668772\n",
        " 0.402725  0.533997  0.992798   0.874003   \u2026  0.930965  0.773502  0.812663\n",
        " 0.898431  0.698726  0.64462    0.665429      0.530255  0.560273  0.531968\n",
        " 0.986282  0.308227  0.797185   0.488909      0.594886  0.322052  0.607442\n",
        " 0.372624  0.753731  0.0759959  0.683182      0.323841  0.756996  0.123692\n",
        " 0.120585  0.438853  0.0205648  0.705619      0.405146  0.01718   0.776353"
       ]
      }
     ],
     "prompt_number": 10
    },
    {
     "cell_type": "code",
     "collapsed": false,
     "input": [
      "# Novice\n",
      "# 1. Create a 8x8 matrix and fill it with a checkerboard pattern\n",
      "Z = zeros(8,8)\n",
      "Z[1:2:end, 2:2:end] = 1\n",
      "Z[2:2:end, 1:2:end] = 1"
     ],
     "language": "python",
     "metadata": {},
     "outputs": [
      {
       "metadata": {},
       "output_type": "pyout",
       "prompt_number": 11,
       "text": [
        "1"
       ]
      }
     ],
     "prompt_number": 11
    },
    {
     "cell_type": "code",
     "collapsed": false,
     "input": [
      "# 2. Create a 10x10 array with random values and find the minimum and maximum values\n",
      "Z = rand(10, 10)\n",
      "Zmin, Zmax = minimum(Z), maximum(Z)\n",
      "# It also write as following. thanks [hc_e](http://qiita.com/chezou/items/d7ca4e95d25835a5cd01#comment-1c20073a44695c08f523)\n",
      "Zmin, Zmax = extrema(Z)"
     ],
     "language": "python",
     "metadata": {},
     "outputs": [
      {
       "metadata": {},
       "output_type": "pyout",
       "prompt_number": 12,
       "text": [
        "(0.0103173099555669,0.997793467093806)"
       ]
      }
     ],
     "prompt_number": 12
    },
    {
     "cell_type": "code",
     "collapsed": false,
     "input": [
      "# 3. Create a checkerboard 8x8 matrix using the tile function\n",
      "# numpy's tile equal to repmat\n",
      "Z = repmat([0 1;1 0],4,4)"
     ],
     "language": "python",
     "metadata": {},
     "outputs": [
      {
       "metadata": {},
       "output_type": "pyout",
       "prompt_number": 13,
       "text": [
        "8x8 Array{Int64,2}:\n",
        " 0  1  0  1  0  1  0  1\n",
        " 1  0  1  0  1  0  1  0\n",
        " 0  1  0  1  0  1  0  1\n",
        " 1  0  1  0  1  0  1  0\n",
        " 0  1  0  1  0  1  0  1\n",
        " 1  0  1  0  1  0  1  0\n",
        " 0  1  0  1  0  1  0  1\n",
        " 1  0  1  0  1  0  1  0"
       ]
      }
     ],
     "prompt_number": 13
    },
    {
     "cell_type": "code",
     "collapsed": false,
     "input": [
      "# 4. Normalize a 5x5 random matrix (between 0 and 1)\n",
      "Z = rand(5, 5)\n",
      "Zmin, Zmax = minimum(Z), maximum(Z)\n",
      "Z = (Z .- Zmin)/(Zmax - Zmin)"
     ],
     "language": "python",
     "metadata": {},
     "outputs": [
      {
       "metadata": {},
       "output_type": "pyout",
       "prompt_number": 14,
       "text": [
        "5x5 Array{Float64,2}:\n",
        " 0.394797    0.202962  0.583085    0.508421  0.904176\n",
        " 0.945791    0.968198  0.729199    0.0       0.271479\n",
        " 0.00141698  0.922852  0.993998    0.567361  0.932666\n",
        " 0.863825    1.0       0.00239875  0.372174  0.360084\n",
        " 0.983157    0.795567  0.457171    0.246425  0.954223"
       ]
      }
     ],
     "prompt_number": 14
    },
    {
     "cell_type": "code",
     "collapsed": false,
     "input": [
      "# 5. Multiply a 5x3 matrix by a 3x2 matrix (real matrix product)\n",
      "Z = ones(5,3) * ones(3,2)"
     ],
     "language": "python",
     "metadata": {},
     "outputs": [
      {
       "metadata": {},
       "output_type": "pyout",
       "prompt_number": 15,
       "text": [
        "5x2 Array{Float64,2}:\n",
        " 3.0  3.0\n",
        " 3.0  3.0\n",
        " 3.0  3.0\n",
        " 3.0  3.0\n",
        " 3.0  3.0"
       ]
      }
     ],
     "prompt_number": 15
    },
    {
     "cell_type": "code",
     "collapsed": false,
     "input": [
      "# 6. Create a 10x10 matrix with row values ranging from 0 to 9\n",
      "(zeros(10,10) .+ [0:9])'"
     ],
     "language": "python",
     "metadata": {},
     "outputs": [
      {
       "metadata": {},
       "output_type": "pyout",
       "prompt_number": 16,
       "text": [
        "10x10 Array{Float64,2}:\n",
        " 0.0  1.0  2.0  3.0  4.0  5.0  6.0  7.0  8.0  9.0\n",
        " 0.0  1.0  2.0  3.0  4.0  5.0  6.0  7.0  8.0  9.0\n",
        " 0.0  1.0  2.0  3.0  4.0  5.0  6.0  7.0  8.0  9.0\n",
        " 0.0  1.0  2.0  3.0  4.0  5.0  6.0  7.0  8.0  9.0\n",
        " 0.0  1.0  2.0  3.0  4.0  5.0  6.0  7.0  8.0  9.0\n",
        " 0.0  1.0  2.0  3.0  4.0  5.0  6.0  7.0  8.0  9.0\n",
        " 0.0  1.0  2.0  3.0  4.0  5.0  6.0  7.0  8.0  9.0\n",
        " 0.0  1.0  2.0  3.0  4.0  5.0  6.0  7.0  8.0  9.0\n",
        " 0.0  1.0  2.0  3.0  4.0  5.0  6.0  7.0  8.0  9.0\n",
        " 0.0  1.0  2.0  3.0  4.0  5.0  6.0  7.0  8.0  9.0"
       ]
      }
     ],
     "prompt_number": 16
    },
    {
     "cell_type": "code",
     "collapsed": false,
     "input": [
      "# 7. Create a vector of size 1000 with values ranging from 0 to 1, both excluded\n",
      "linspace(0,1, 1002)[2:end - 1]"
     ],
     "language": "python",
     "metadata": {},
     "outputs": [
      {
       "metadata": {},
       "output_type": "pyout",
       "prompt_number": 17,
       "text": [
        "1000-element Array{Float64,1}:\n",
        " 0.000999001\n",
        " 0.001998   \n",
        " 0.002997   \n",
        " 0.003996   \n",
        " 0.004995   \n",
        " 0.00599401 \n",
        " 0.00699301 \n",
        " 0.00799201 \n",
        " 0.00899101 \n",
        " 0.00999001 \n",
        " 0.010989   \n",
        " 0.011988   \n",
        " 0.012987   \n",
        " \u22ee          \n",
        " 0.988012   \n",
        " 0.989011   \n",
        " 0.99001    \n",
        " 0.991009   \n",
        " 0.992008   \n",
        " 0.993007   \n",
        " 0.994006   \n",
        " 0.995005   \n",
        " 0.996004   \n",
        " 0.997003   \n",
        " 0.998002   \n",
        " 0.999001   "
       ]
      }
     ],
     "prompt_number": 17
    },
    {
     "cell_type": "code",
     "collapsed": false,
     "input": [
      "# 8. Create a random vector of size 100 and sort it\n",
      "Z = rand(100)\n",
      "sort(Z)"
     ],
     "language": "python",
     "metadata": {},
     "outputs": [
      {
       "metadata": {},
       "output_type": "pyout",
       "prompt_number": 18,
       "text": [
        "100-element Array{Float64,1}:\n",
        " 0.00401339\n",
        " 0.0312315 \n",
        " 0.0368919 \n",
        " 0.0411307 \n",
        " 0.043484  \n",
        " 0.062733  \n",
        " 0.0785132 \n",
        " 0.0797169 \n",
        " 0.0889395 \n",
        " 0.0918159 \n",
        " 0.118596  \n",
        " 0.122353  \n",
        " 0.125039  \n",
        " \u22ee         \n",
        " 0.904775  \n",
        " 0.905186  \n",
        " 0.90878   \n",
        " 0.911113  \n",
        " 0.92147   \n",
        " 0.93431   \n",
        " 0.95278   \n",
        " 0.967002  \n",
        " 0.976859  \n",
        " 0.988758  \n",
        " 0.991669  \n",
        " 0.99873   "
       ]
      }
     ],
     "prompt_number": 18
    },
    {
     "cell_type": "code",
     "collapsed": false,
     "input": [
      "# 9. Consider two random matrices A anb B, check if they are equal.\n",
      "A = rand(0:2, 2,2)\n",
      "B = rand(0:2, 2,2)\n",
      "A == B"
     ],
     "language": "python",
     "metadata": {},
     "outputs": [
      {
       "metadata": {},
       "output_type": "pyout",
       "prompt_number": 19,
       "text": [
        "false"
       ]
      }
     ],
     "prompt_number": 19
    },
    {
     "cell_type": "code",
     "collapsed": false,
     "input": [
      "# 10. Create a random vector of size 1000 and find the mean value\n",
      "Z = rand(1000)\n",
      "m = mean(Z)"
     ],
     "language": "python",
     "metadata": {},
     "outputs": [
      {
       "metadata": {},
       "output_type": "pyout",
       "prompt_number": 20,
       "text": [
        "0.5016094941506878"
       ]
      }
     ],
     "prompt_number": 20
    },
    {
     "cell_type": "code",
     "collapsed": false,
     "input": [
      "# Apprentice\n",
      "# 1. Make an array immutable (read-only)\n",
      "# nothing"
     ],
     "language": "python",
     "metadata": {},
     "outputs": [],
     "prompt_number": 21
    },
    {
     "cell_type": "code",
     "collapsed": false,
     "input": [
      "# 2. Consider a random 100x2 matrix representing cartesian coordinates, convert them to polar coordinates\n",
      "Z = rand(100,2)\n",
      "X, Y = Z[:,1], Z[:,2]\n",
      "R = sqrt(X'*X + Y'*Y)\n",
      "T = atan2(Y,X)"
     ],
     "language": "python",
     "metadata": {},
     "outputs": [
      {
       "metadata": {},
       "output_type": "pyout",
       "prompt_number": 22,
       "text": [
        "100-element Array{Float64,1}:\n",
        " 0.895045 \n",
        " 0.0122839\n",
        " 0.833173 \n",
        " 0.576971 \n",
        " 0.523826 \n",
        " 0.427411 \n",
        " 0.975463 \n",
        " 1.00448  \n",
        " 0.006597 \n",
        " 0.749726 \n",
        " 1.1801   \n",
        " 0.38983  \n",
        " 1.16127  \n",
        " \u22ee        \n",
        " 0.589068 \n",
        " 1.3463   \n",
        " 0.645245 \n",
        " 1.29625  \n",
        " 0.528882 \n",
        " 0.387375 \n",
        " 1.53141  \n",
        " 0.497662 \n",
        " 0.714511 \n",
        " 0.190737 \n",
        " 1.49214  \n",
        " 0.0524592"
       ]
      }
     ],
     "prompt_number": 22
    },
    {
     "cell_type": "code",
     "collapsed": false,
     "input": [
      "# 3. Create random vector of size 100 and replace the maximum value by 0\n",
      "Z = rand(100)\n",
      "Z[indmax(Z)] = 0"
     ],
     "language": "python",
     "metadata": {},
     "outputs": [
      {
       "metadata": {},
       "output_type": "pyout",
       "prompt_number": 23,
       "text": [
        "0"
       ]
      }
     ],
     "prompt_number": 23
    },
    {
     "cell_type": "code",
     "collapsed": false,
     "input": [
      "# 4. Create a structured array with x and y coordinates covering the [0,1]x[0,1] area.\n",
      "# There is not exist `meshgrid` officially\n",
      "# see also. https://github.com/JuliaLang/julia/issues/4093\n",
      "# assume using https://github.com/JuliaLang/julia/blob/master/examples/ndgrid.jl\n",
      "include(\"/Applications/Julia-0.3.0-prerelease-547facf2c1.app/Contents/Resources/julia/share/julia/examples/ndgrid.jl\")\n",
      "X = linspace(0,1,10)\n",
      "Zx, Zy = meshgrid(X, X)"
     ],
     "language": "python",
     "metadata": {},
     "outputs": [
      {
       "metadata": {},
       "output_type": "pyout",
       "prompt_number": 24,
       "text": [
        "(\n",
        "10x10 Array{Float64,2}:\n",
        " 0.0  0.111111  0.222222  0.333333  \u2026  0.666667  0.777778  0.888889  1.0\n",
        " 0.0  0.111111  0.222222  0.333333     0.666667  0.777778  0.888889  1.0\n",
        " 0.0  0.111111  0.222222  0.333333     0.666667  0.777778  0.888889  1.0\n",
        " 0.0  0.111111  0.222222  0.333333     0.666667  0.777778  0.888889  1.0\n",
        " 0.0  0.111111  0.222222  0.333333     0.666667  0.777778  0.888889  1.0\n",
        " 0.0  0.111111  0.222222  0.333333  \u2026  0.666667  0.777778  0.888889  1.0\n",
        " 0.0  0.111111  0.222222  0.333333     0.666667  0.777778  0.888889  1.0\n",
        " 0.0  0.111111  0.222222  0.333333     0.666667  0.777778  0.888889  1.0\n",
        " 0.0  0.111111  0.222222  0.333333     0.666667  0.777778  0.888889  1.0\n",
        " 0.0  0.111111  0.222222  0.333333     0.666667  0.777778  0.888889  1.0,\n",
        "\n",
        "10x10 Array{Float64,2}:\n",
        " 0.0       0.0       0.0       0.0       \u2026  0.0       0.0       0.0     \n",
        " 0.111111  0.111111  0.111111  0.111111     0.111111  0.111111  0.111111\n",
        " 0.222222  0.222222  0.222222  0.222222     0.222222  0.222222  0.222222\n",
        " 0.333333  0.333333  0.333333  0.333333     0.333333  0.333333  0.333333\n",
        " 0.444444  0.444444  0.444444  0.444444     0.444444  0.444444  0.444444\n",
        " 0.555556  0.555556  0.555556  0.555556  \u2026  0.555556  0.555556  0.555556\n",
        " 0.666667  0.666667  0.666667  0.666667     0.666667  0.666667  0.666667\n",
        " 0.777778  0.777778  0.777778  0.777778     0.777778  0.777778  0.777778\n",
        " 0.888889  0.888889  0.888889  0.888889     0.888889  0.888889  0.888889\n",
        " 1.0       1.0       1.0       1.0          1.0       1.0       1.0     )"
       ]
      }
     ],
     "prompt_number": 24
    },
    {
     "cell_type": "code",
     "collapsed": false,
     "input": [],
     "language": "python",
     "metadata": {},
     "outputs": [],
     "prompt_number": 25
    },
    {
     "cell_type": "code",
     "collapsed": false,
     "input": [
      "# 5. Print the minimum and maximum representable value for each numpy scalar type\n",
      "for dtype in (Int8, Int16, Int32, Int64)\n",
      "    println(typemin(dtype))\n",
      "    println(typemax(dtype))\n",
      "end\n",
      "# typemin, typemax returns -Inf, Inf\n",
      "for dtype in (Float32, Float64)\n",
      "    println(typemin(dtype))\n",
      "    println(typemax(dtype))\n",
      "    println(eps(dtype))\n",
      "end\n"
     ],
     "language": "python",
     "metadata": {},
     "outputs": [
      {
       "output_type": "stream",
       "stream": "stdout",
       "text": [
        "-128\n"
       ]
      },
      {
       "output_type": "stream",
       "stream": "stdout",
       "text": [
        "127\n",
        "-32768\n",
        "32767\n",
        "-2147483648"
       ]
      },
      {
       "output_type": "stream",
       "stream": "stdout",
       "text": [
        "\n",
        "2147483647\n",
        "-9223372036854775808\n",
        "9223372036854775807\n",
        "-"
       ]
      },
      {
       "output_type": "stream",
       "stream": "stdout",
       "text": [
        "Inf\n",
        "Inf\n",
        "1.1920929e-7\n",
        "-Inf\n",
        "Inf\n",
        "2.220446049250313e-16\n"
       ]
      }
     ],
     "prompt_number": 26
    },
    {
     "cell_type": "code",
     "collapsed": false,
     "input": [
      "# 6. Create a structured array representing a position (x,y) and a color (r,g,b)\n",
      "# Julia doesn't have StructArray\n",
      "# see also: https://github.com/JuliaLang/julia/issues/1263\n",
      "# use DataFrames"
     ],
     "language": "python",
     "metadata": {},
     "outputs": [],
     "prompt_number": 27
    },
    {
     "cell_type": "code",
     "collapsed": false,
     "input": [
      "# 7. Consider a random vector with shape (100,2) representing coordinates, find point by point distances\n",
      "Z = rand(10,2)\n",
      "X,Y = Z[:,1], Z[:,2]\n",
      "D = sqrtm((X.-X.')^2 + (Y .- Y.')^2)"
     ],
     "language": "python",
     "metadata": {},
     "outputs": [
      {
       "metadata": {},
       "output_type": "pyout",
       "prompt_number": 28,
       "text": [
        "10x10 Array{Complex{Float64},2}:\n",
        "   1.82181e-9+0.659545im  \u2026   -2.56842e-9+0.2942im   \n",
        "  -3.46482e-9+0.155432im      -1.89134e-9+0.613563im \n",
        "    2.7862e-9+0.648402im       -6.9756e-9+0.565851im \n",
        " -5.83066e-10+0.281238im     -1.26528e-10+0.301554im \n",
        " -5.37526e-10+0.419309im       1.57265e-9-0.0976318im\n",
        "   1.37112e-9+0.309478im  \u2026    1.20626e-9+0.200089im \n",
        "  4.00216e-11+0.529638im      -3.61073e-9+0.191368im \n",
        "   2.73184e-9-0.165674im      -2.01683e-9+0.803853im \n",
        "  -1.59717e-9+0.824921im        5.3747e-9+0.455008im \n",
        "  -2.56842e-9+0.2942im         9.03584e-9+0.628635im "
       ]
      }
     ],
     "prompt_number": 28
    },
    {
     "cell_type": "code",
     "collapsed": false,
     "input": [
      "# 8. Generate a generic 2D Gaussian-like array\n",
      "X, Y = meshgrid(linspace(-1,1,100),linspace(-1,1,100))\n",
      "D = sqrtm(X*X + Y*Y)\n",
      "sigma, mu = 1.0, 0.0\n",
      "G = exp(-( (D.-mu)^2 / ( 2.0 * sigma^2 ) ) )"
     ],
     "language": "python",
     "metadata": {},
     "outputs": [
      {
       "metadata": {},
       "output_type": "pyout",
       "prompt_number": 29,
       "text": [
        "100x100 Array{Complex{Float64},2}:\n",
        " 1.0-1.47911e-31im   1.0-3.45127e-31im  \u2026           1.0-0.0im\n",
        " 1.0-5.42342e-31im    1.0-3.9443e-31im     1.0+4.43734e-31im \n",
        " 1.0+1.97215e-31im   1.0+4.93038e-32im     1.0-5.42342e-31im \n",
        " 1.0-2.95823e-31im   1.0-2.95823e-31im     1.0+5.42342e-31im \n",
        "  1.0+1.2819e-30im   1.0+1.08468e-30im     1.0-1.57772e-30im \n",
        " 1.0+9.86076e-31im   1.0+7.88861e-31im  \u2026  1.0-1.97215e-30im \n",
        " 1.0+2.95823e-31im    1.0+3.9443e-31im     1.0-1.97215e-31im \n",
        " 1.0+3.45127e-31im   1.0+2.95823e-31im     1.0-4.93038e-31im \n",
        " 1.0+1.97215e-31im   1.0-4.93038e-32im     1.0-4.43734e-31im \n",
        "          1.0-0.0im  1.0-4.93038e-32im     1.0-2.95823e-31im \n",
        " 1.0-1.97215e-31im   1.0-2.95823e-31im  \u2026  1.0+1.97215e-31im \n",
        "  1.0-1.2326e-31im   1.0-2.21867e-31im      1.0-3.9443e-31im \n",
        " 1.0-8.62817e-32im   1.0-6.16298e-32im     1.0-2.46519e-31im \n",
        "             \u22ee                          \u22f1                    \n",
        " 1.0+2.46519e-31im   1.0+2.46519e-31im     1.0-5.91646e-31im \n",
        " 1.0+8.87469e-31im    1.0+3.9443e-31im     1.0-1.18329e-30im \n",
        " 1.0+1.47911e-31im   1.0-1.47911e-31im  \u2026  1.0-2.46519e-31im \n",
        " 1.0+4.93038e-32im   1.0+4.93038e-32im     1.0-2.95823e-31im \n",
        "          1.0-0.0im  1.0-1.47911e-31im     1.0-2.71171e-31im \n",
        " 1.0-1.84889e-31im   1.0-1.35585e-31im     1.0-1.54074e-31im \n",
        " 1.0-2.95823e-31im   1.0-5.91646e-31im     1.0+1.97215e-31im \n",
        " 1.0-7.39557e-32im   1.0-2.95823e-31im  \u2026  1.0+4.93038e-32im \n",
        " 1.0+5.91646e-31im   1.0+1.97215e-31im              1.0-0.0im\n",
        " 1.0+4.43734e-31im   1.0+5.42342e-31im     1.0+5.91646e-31im \n",
        "  1.0+1.2326e-30im    1.0+1.2819e-30im     1.0-7.88861e-31im \n",
        " 1.0+1.92285e-30im   1.0+1.42981e-30im     1.0-1.57772e-30im "
       ]
      }
     ],
     "prompt_number": 29
    },
    {
     "cell_type": "code",
     "collapsed": false,
     "input": [
      "# 9. Consider the vector [1, 2, 3, 4, 5], how to build a new vector with 3 consecutive zeros interleaved between each value ?\n",
      "Z = [1,2,3,4,5]\n",
      "nz = 3\n",
      "Z0 = zeros(length(Z) + (length(Z)-1)*(nz))\n",
      "Z0[1:nz+1:end] = Z"
     ],
     "language": "python",
     "metadata": {},
     "outputs": [
      {
       "metadata": {},
       "output_type": "pyout",
       "prompt_number": 30,
       "text": [
        "5-element Array{Int64,1}:\n",
        " 1\n",
        " 2\n",
        " 3\n",
        " 4\n",
        " 5"
       ]
      }
     ],
     "prompt_number": 30
    },
    {
     "cell_type": "code",
     "collapsed": false,
     "input": [
      "# 10. Find the nearest value from a given value in an array\n",
      "Z = [3,6,9,12,15]\n",
      "Z[indmin(abs(Z .- 10))]"
     ],
     "language": "python",
     "metadata": {},
     "outputs": [
      {
       "metadata": {},
       "output_type": "pyout",
       "prompt_number": 31,
       "text": [
        "9"
       ]
      }
     ],
     "prompt_number": 31
    },
    {
     "cell_type": "code",
     "collapsed": false,
     "input": [
      "# Journyman\n",
      "# 1. Consider the following file:\n",
      "# 1,2,3,4,5\n",
      "# 6,,,7,8\n",
      "# ,,9,10,11\n",
      "# How to read it ?\n",
      "using DataFrames\n",
      "readtable(\"missing.dat\")"
     ],
     "language": "python",
     "metadata": {},
     "outputs": [
      {
       "html": [
        "<table><tr><th></th><th>x1</th><th>x2</th><th>x3</th><th>x4</th><th>x5</th></tr><tr><th>1</th><td>6</td><td>NA</td><td>NA</td><td>7</td><td>8</td></tr><tr><th>2</th><td>NA</td><td>NA</td><td>9</td><td>10</td><td>11</td></tr></table>"
       ],
       "metadata": {},
       "output_type": "pyout",
       "prompt_number": 32,
       "text": [
        "2x5 DataFrame\n",
        "|-------|----|----|----|----|----|\n",
        "| Row # | x1 | x2 | x3 | x4 | x5 |\n",
        "| 1     | 6  | NA | NA | 7  | 8  |\n",
        "| 2     | NA | NA | 9  | 10 | 11 |"
       ]
      }
     ],
     "prompt_number": 32
    },
    {
     "cell_type": "code",
     "collapsed": false,
     "input": [
      "# 2. Consider a generator function that generates 10 integers and use it to build an array\n",
      "# I can't translate this question"
     ],
     "language": "python",
     "metadata": {},
     "outputs": [],
     "prompt_number": 33
    },
    {
     "cell_type": "code",
     "collapsed": false,
     "input": [
      "# 3. Consider a given vector, how to add 1 to each element indexed by a second vector (be careful with repeated indices) ?\n",
      "using StatsBase\n",
      "Z = ones(10)\n",
      "I = rand(0:length(Z), 20)\n",
      "Z += counts(I, 1:length(Z))"
     ],
     "language": "python",
     "metadata": {},
     "outputs": [
      {
       "metadata": {},
       "output_type": "pyout",
       "prompt_number": 34,
       "text": [
        "10-element Array{Float64,1}:\n",
        " 5.0\n",
        " 2.0\n",
        " 5.0\n",
        " 2.0\n",
        " 2.0\n",
        " 3.0\n",
        " 1.0\n",
        " 4.0\n",
        " 2.0\n",
        " 3.0"
       ]
      }
     ],
     "prompt_number": 34
    },
    {
     "cell_type": "code",
     "collapsed": false,
     "input": [
      "# 4. How to accumulate elements of a vector (X) to an array (F) based on an index list (I) ?\n",
      "using StatsBase\n",
      "X = WeightVec([1,2,3,4,5,6])\n",
      "I = [1,3,9,3,4,1]\n",
      "F = counts(I, maximum(I), X)"
     ],
     "language": "python",
     "metadata": {},
     "outputs": [
      {
       "metadata": {},
       "output_type": "pyout",
       "prompt_number": 35,
       "text": [
        "9-element Array{Int64,1}:\n",
        " 7\n",
        " 0\n",
        " 6\n",
        " 5\n",
        " 0\n",
        " 0\n",
        " 0\n",
        " 0\n",
        " 3"
       ]
      }
     ],
     "prompt_number": 35
    },
    {
     "cell_type": "code",
     "collapsed": false,
     "input": [
      "# 5. Considering a (w,h,3) image of (dtype=ubyte), compute the number of unique colors\n",
      "w,h = 16,16\n",
      "I = convert(Array{Uint8}, rand(0:2, (h,w,3)))\n",
      "F = I[:,:,1] * 256 * 256 + I[:,:,2]*256 + I[:,:,3]\n",
      "n = length(unique(F))\n",
      "unique(I)"
     ],
     "language": "python",
     "metadata": {},
     "outputs": [
      {
       "metadata": {},
       "output_type": "pyout",
       "prompt_number": 36,
       "text": [
        "3-element Array{Uint8,1}:\n",
        " 0x01\n",
        " 0x02\n",
        " 0x00"
       ]
      }
     ],
     "prompt_number": 36
    },
    {
     "cell_type": "code",
     "collapsed": false,
     "input": [
      "# 6. Considering a four dimensions array, how to get sum over the last two axis at once ?\n",
      "A = rand(0:10, (3,4,3,4))\n",
      "x,y = size(A)[1:end-2]\n",
      "z = prod(size(A)[end-1:end])\n",
      "calc_sum = sum(reshape(A, (x,y,z)),3)"
     ],
     "language": "python",
     "metadata": {},
     "outputs": [
      {
       "metadata": {},
       "output_type": "pyout",
       "prompt_number": 37,
       "text": [
        "3x4x1 Array{Int64,3}:\n",
        "[:, :, 1] =\n",
        " 70  53  63  66\n",
        " 53  66  75  65\n",
        " 75  55  59  64"
       ]
      }
     ],
     "prompt_number": 37
    },
    {
     "cell_type": "code",
     "collapsed": false,
     "input": [
      "# 7. Considering a one-dimensional vector D, how to compute means of subsets of D using a vector S of same size describing subset indices ?\n",
      "using StatsBase\n",
      "D = WeightVec(rand(100))\n",
      "S = rand(0:10,100)\n",
      "D_sums = counts(S, maximum(S), D)\n",
      "D_counts = counts(S, maximum(S))\n",
      "D_means = D_sums ./ D_counts"
     ],
     "language": "python",
     "metadata": {},
     "outputs": [
      {
       "metadata": {},
       "output_type": "pyout",
       "prompt_number": 38,
       "text": [
        "10-element Array{Float64,1}:\n",
        " 0.565728\n",
        " 0.629763\n",
        " 0.595865\n",
        " 0.566904\n",
        " 0.576511\n",
        " 0.766362\n",
        " 0.295386\n",
        " 0.391045\n",
        " 0.451753\n",
        " 0.522477"
       ]
      }
     ],
     "prompt_number": 38
    },
    {
     "cell_type": "code",
     "collapsed": false,
     "input": [
      "# Craftsman\n",
      "# 1. Consider a one-dimensional array Z, build a two-dimensional array whose first row is (Z[0],Z[1],Z[2]) and each subsequent row is shifted by 1 (last row should be (Z[-3],Z[-2],Z[-1])\n",
      "# I don't find any function like stride_tricks.as_stride\n",
      "function rolling(A, window)\n",
      "       Z = zeros(length(A)-2, window)\n",
      "       for i in 1:(length(A) - window +1)\n",
      "           Z[i,:] = A[i:i+2]\n",
      "       end\n",
      "       return Z\n",
      "end\n",
      "\n",
      "rolling(0:100, 3)"
     ],
     "language": "python",
     "metadata": {},
     "outputs": [
      {
       "metadata": {},
       "output_type": "pyout",
       "prompt_number": 39,
       "text": [
        "99x3 Array{Float64,2}:\n",
        "  0.0   1.0    2.0\n",
        "  1.0   2.0    3.0\n",
        "  2.0   3.0    4.0\n",
        "  3.0   4.0    5.0\n",
        "  4.0   5.0    6.0\n",
        "  5.0   6.0    7.0\n",
        "  6.0   7.0    8.0\n",
        "  7.0   8.0    9.0\n",
        "  8.0   9.0   10.0\n",
        "  9.0  10.0   11.0\n",
        " 10.0  11.0   12.0\n",
        " 11.0  12.0   13.0\n",
        " 12.0  13.0   14.0\n",
        "  \u22ee               \n",
        " 87.0  88.0   89.0\n",
        " 88.0  89.0   90.0\n",
        " 89.0  90.0   91.0\n",
        " 90.0  91.0   92.0\n",
        " 91.0  92.0   93.0\n",
        " 92.0  93.0   94.0\n",
        " 93.0  94.0   95.0\n",
        " 94.0  95.0   96.0\n",
        " 95.0  96.0   97.0\n",
        " 96.0  97.0   98.0\n",
        " 97.0  98.0   99.0\n",
        " 98.0  99.0  100.0"
       ]
      }
     ],
     "prompt_number": 39
    },
    {
     "cell_type": "code",
     "collapsed": false,
     "input": [
      "# 2. Consider a set of 100 triplets describing 100 triangles (with shared vertices), find the set of unique line segments composing all the triangles.\n",
      "\n",
      "faces = rand(0:100, 100, 3)\n",
      "face2 = kron(faces,[1 1])\n",
      "\n",
      "F = circshift(sortcols(face2),(0,1))\n",
      "F = reshape(F, (convert(Int64,length(F)/2),2))\n",
      "F = sort(F,2)\n",
      "G = unique(F,1)"
     ],
     "language": "python",
     "metadata": {},
     "outputs": [
      {
       "metadata": {},
       "output_type": "pyout",
       "prompt_number": 40,
       "text": [
        "292x2 Array{Int64,2}:\n",
        " 87  92\n",
        " 53  77\n",
        " 66  70\n",
        " 14  25\n",
        " 17  18\n",
        " 11  14\n",
        " 34  51\n",
        " 50  55\n",
        " 79  99\n",
        " 34  72\n",
        " 43  90\n",
        " 27  55\n",
        " 75  83\n",
        "  \u22ee    \n",
        " 31  99\n",
        " 55  71\n",
        " 75  79\n",
        " 83  84\n",
        " 43  72\n",
        " 26  29\n",
        "  1  37\n",
        " 49  58\n",
        "  4  49\n",
        " 17  87\n",
        " 26  48\n",
        "  8  36"
       ]
      }
     ],
     "prompt_number": 40
    },
    {
     "cell_type": "code",
     "collapsed": false,
     "input": [
      "# 3. Given an array C that is a bincount, how to produce an array A such that np.bincount(A) == C ?\n",
      "using StatsBase\n",
      "O = [1 1 2 3 4 4 6]\n",
      "C = counts(O, maximum(O))\n",
      "A = foldl(vcat,[kron(ones(Int64, C[i]), i) for i in 1:length(C)])"
     ],
     "language": "python",
     "metadata": {},
     "outputs": [
      {
       "metadata": {},
       "output_type": "pyout",
       "prompt_number": 41,
       "text": [
        "7-element Array{Int64,1}:\n",
        " 1\n",
        " 1\n",
        " 2\n",
        " 3\n",
        " 4\n",
        " 4\n",
        " 6"
       ]
      }
     ],
     "prompt_number": 41
    },
    {
     "cell_type": "code",
     "collapsed": false,
     "input": [
      "# Artisan\n",
      "# 1. Considering a 100x3 matrix, extract rows with unequal values (e.g. [2,2,3])\n",
      "Z = rand(0:5,100,3)\n",
      "E = prod(Z[:,2:end] .== Z[:,1:end-1],2)\n",
      "U = Z[find(~E), :]"
     ],
     "language": "python",
     "metadata": {},
     "outputs": [
      {
       "metadata": {},
       "output_type": "pyout",
       "prompt_number": 42,
       "text": [
        "97x3 Array{Int64,2}:\n",
        " 2  5  0\n",
        " 2  3  0\n",
        " 5  4  2\n",
        " 0  1  3\n",
        " 1  5  4\n",
        " 5  2  0\n",
        " 4  2  0\n",
        " 2  5  2\n",
        " 5  1  2\n",
        " 5  5  2\n",
        " 3  0  2\n",
        " 4  5  2\n",
        " 5  3  4\n",
        " \u22ee      \n",
        " 1  5  4\n",
        " 5  5  4\n",
        " 2  1  3\n",
        " 2  3  0\n",
        " 5  5  3\n",
        " 0  4  1\n",
        " 0  2  5\n",
        " 1  1  5\n",
        " 5  3  1\n",
        " 0  1  0\n",
        " 1  5  2\n",
        " 2  5  5"
       ]
      }
     ],
     "prompt_number": 42
    },
    {
     "cell_type": "code",
     "collapsed": false,
     "input": [
      "# 2. Convert a vector of ints into a matrix binary representation.\n",
      "I = [0 1 2 3 15 16 32 64 128]\n",
      "B = foldl(hcat,[reverse(int(bool(i & (2 .^ (0:8))))) for i in I])'"
     ],
     "language": "python",
     "metadata": {},
     "outputs": [
      {
       "metadata": {},
       "output_type": "pyout",
       "prompt_number": 43,
       "text": [
        "9x9 Array{Int64,2}:\n",
        " 0  0  0  0  0  0  0  0  0\n",
        " 0  0  0  0  0  0  0  0  1\n",
        " 0  0  0  0  0  0  0  1  0\n",
        " 0  0  0  0  0  0  0  1  1\n",
        " 0  0  0  0  0  1  1  1  1\n",
        " 0  0  0  0  1  0  0  0  0\n",
        " 0  0  0  1  0  0  0  0  0\n",
        " 0  0  1  0  0  0  0  0  0\n",
        " 0  1  0  0  0  0  0  0  0"
       ]
      }
     ],
     "prompt_number": 43
    },
    {
     "cell_type": "code",
     "collapsed": false,
     "input": [
      "# Adept\n",
      "# 1. Consider an arbitrary array, write a function that extract a subpart with a fixed shape and centered on a given element (pad with a fill value when necessary)\n",
      "# TBR"
     ],
     "language": "python",
     "metadata": {},
     "outputs": [],
     "prompt_number": 44
    },
    {
     "cell_type": "code",
     "collapsed": false,
     "input": [
      "# Expert\n",
      "# 1. Consider two arrays A and B of shape (8,3) and (2,2). How to find rows of A that contain elements of each row of B regardless of the order of the elements in B ?\n",
      "# example has broken"
     ],
     "language": "python",
     "metadata": {},
     "outputs": [],
     "prompt_number": 45
    },
    {
     "cell_type": "code",
     "collapsed": false,
     "input": [
      "# 2. Extract all the contiguous 3x3 blocks from a random 10x10 matrix.\n",
      "# There is Symmetric class in julia but immutable\n",
      "# https://github.com/JuliaLang/julia/blob/master/base/linalg/symmetric.jl\n",
      "# See also: https://github.com/JuliaLang/julia/pull/1533"
     ],
     "language": "python",
     "metadata": {},
     "outputs": [],
     "prompt_number": 46
    }
   ],
   "metadata": {}
  }
 ]
}