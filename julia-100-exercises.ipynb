{
 "metadata": {
  "language": "Julia",
  "name": "",
  "signature": "sha256:e6ebb877e4d64c63dd6da9dff00f4f6b8db4763c58982ec0f949102fe6c16871"
 },
 "nbformat": 3,
 "nbformat_minor": 0,
 "worksheets": [
  {
   "cells": [
    {
     "cell_type": "code",
     "collapsed": false,
     "input": [
      "# 2. Print the julia version\n",
      "VERSION"
     ],
     "language": "python",
     "metadata": {},
     "outputs": [
      {
       "metadata": {},
       "output_type": "pyout",
       "prompt_number": 1,
       "text": [
        "v\"0.3.0-prerelease+3551\""
       ]
      }
     ],
     "prompt_number": 1
    },
    {
     "cell_type": "code",
     "collapsed": false,
     "input": [
      "# 3. Create a null vector of size 10\n",
      "Z = zeros(10)"
     ],
     "language": "python",
     "metadata": {},
     "outputs": [
      {
       "metadata": {},
       "output_type": "pyout",
       "prompt_number": 2,
       "text": [
        "10-element Array{Float64,1}:\n",
        " 0.0\n",
        " 0.0\n",
        " 0.0\n",
        " 0.0\n",
        " 0.0\n",
        " 0.0\n",
        " 0.0\n",
        " 0.0\n",
        " 0.0\n",
        " 0.0"
       ]
      }
     ],
     "prompt_number": 2
    },
    {
     "cell_type": "code",
     "collapsed": false,
     "input": [
      "# 4. Create a null vector of size 10 but the fifth value which is 1\n",
      "Z = zeros(10)\n",
      "Z[5] = 1\n",
      "Z"
     ],
     "language": "python",
     "metadata": {},
     "outputs": [
      {
       "metadata": {},
       "output_type": "pyout",
       "prompt_number": 3,
       "text": [
        "10-element Array{Float64,1}:\n",
        " 0.0\n",
        " 0.0\n",
        " 0.0\n",
        " 0.0\n",
        " 1.0\n",
        " 0.0\n",
        " 0.0\n",
        " 0.0\n",
        " 0.0\n",
        " 0.0"
       ]
      }
     ],
     "prompt_number": 3
    },
    {
     "cell_type": "code",
     "collapsed": false,
     "input": [
      "# 5. Create a vector with values ranging from 10 to 99\n",
      "Z = [10:99]"
     ],
     "language": "python",
     "metadata": {},
     "outputs": [
      {
       "metadata": {},
       "output_type": "pyout",
       "prompt_number": 4,
       "text": [
        "90-element Array{Int64,1}:\n",
        " 10\n",
        " 11\n",
        " 12\n",
        " 13\n",
        " 14\n",
        " 15\n",
        " 16\n",
        " 17\n",
        " 18\n",
        " 19\n",
        " 20\n",
        " 21\n",
        " 22\n",
        "  \u22ee\n",
        " 88\n",
        " 89\n",
        " 90\n",
        " 91\n",
        " 92\n",
        " 93\n",
        " 94\n",
        " 95\n",
        " 96\n",
        " 97\n",
        " 98\n",
        " 99"
       ]
      }
     ],
     "prompt_number": 4
    },
    {
     "cell_type": "code",
     "collapsed": false,
     "input": [
      "# 6. Create a 3x3 matrix with values ranging from 0 to 8\n",
      "Z = reshape(0:8, 3, 3)"
     ],
     "language": "python",
     "metadata": {},
     "outputs": [
      {
       "metadata": {},
       "output_type": "pyout",
       "prompt_number": 5,
       "text": [
        "3x3 Array{Int64,2}:\n",
        " 0  3  6\n",
        " 1  4  7\n",
        " 2  5  8"
       ]
      }
     ],
     "prompt_number": 5
    },
    {
     "cell_type": "code",
     "collapsed": false,
     "input": [
      "# 7. Find indices of non-zero elements from [1,2,0,0,4,0]\n",
      "nz = find([1,2,0,0,4,0])"
     ],
     "language": "python",
     "metadata": {},
     "outputs": [
      {
       "metadata": {},
       "output_type": "pyout",
       "prompt_number": 6,
       "text": [
        "3-element Array{Int64,1}:\n",
        " 1\n",
        " 2\n",
        " 5"
       ]
      }
     ],
     "prompt_number": 6
    },
    {
     "cell_type": "code",
     "collapsed": false,
     "input": [
      "# 8. Create a 3x3 identity matrix\n",
      "Z = eye(3)"
     ],
     "language": "python",
     "metadata": {},
     "outputs": [
      {
       "metadata": {},
       "output_type": "pyout",
       "prompt_number": 7,
       "text": [
        "3x3 Array{Float64,2}:\n",
        " 1.0  0.0  0.0\n",
        " 0.0  1.0  0.0\n",
        " 0.0  0.0  1.0"
       ]
      }
     ],
     "prompt_number": 7
    },
    {
     "cell_type": "code",
     "collapsed": false,
     "input": [
      "# 9. Create a 5x5 matrix with values 1,2,3,4 just below the diagonal\n",
      "Z = diagm(1:4, -1)"
     ],
     "language": "python",
     "metadata": {},
     "outputs": [
      {
       "metadata": {},
       "output_type": "pyout",
       "prompt_number": 8,
       "text": [
        "5x5 Array{Int64,2}:\n",
        " 0  0  0  0  0\n",
        " 1  0  0  0  0\n",
        " 0  2  0  0  0\n",
        " 0  0  3  0  0\n",
        " 0  0  0  4  0"
       ]
      }
     ],
     "prompt_number": 8
    },
    {
     "cell_type": "code",
     "collapsed": false,
     "input": [
      "# 10. Create a 10x10x10 array with random values\n",
      "rand(10, 10, 10)"
     ],
     "language": "python",
     "metadata": {},
     "outputs": [
      {
       "metadata": {},
       "output_type": "pyout",
       "prompt_number": 9,
       "text": [
        "10x10x10 Array{Float64,3}:\n",
        "[:, :, 1] =\n",
        " 0.338253  0.118384  0.9532     \u2026  0.868386   0.971317    0.236751 \n",
        " 0.122723  0.331353  0.624894      0.710364   0.632804    0.789619 \n",
        " 0.699698  0.92972   0.993979      0.227738   0.953537    0.285673 \n",
        " 0.916453  0.948597  0.952011      0.632898   0.0173822   0.162616 \n",
        " 0.22391   0.958959  0.727332      0.121247   0.720461    0.699726 \n",
        " 0.42693   0.140623  0.0969389  \u2026  0.0437497  0.724019    0.0163126\n",
        " 0.785355  0.864807  0.573         0.777364   0.397864    0.0411192\n",
        " 0.461903  0.874776  0.0890956     0.61483    0.00131945  0.607546 \n",
        " 0.168804  0.35022   0.165381      0.108073   0.560756    0.735203 \n",
        " 0.520252  0.817577  0.377081      0.740337   0.227944    0.742168 \n",
        "\n",
        "[:, :, 2] =\n",
        " 0.707296  0.700672  0.358047  0.406616    \u2026  0.540087   0.870523   0.482389\n",
        " 0.109969  0.502974  0.416094  0.204432       0.830164   0.827767   0.21522 \n",
        " 0.594094  0.146086  0.728809  0.0258356      0.591835   0.672944   0.208908\n",
        " 0.175139  0.691682  0.921998  0.00953839     0.141848   0.614863   0.504489\n",
        " 0.69723   0.412335  0.63646   0.32047        0.0613043  0.71559    0.615721\n",
        " 0.858309  0.497321  0.865719  0.338716    \u2026  0.979035   0.174699   0.506258\n",
        " 0.112005  0.930833  0.15822   0.197039       0.492595   0.0271366  0.834128\n",
        " 0.377686  0.251498  0.508097  0.160315       0.086137   0.10476    0.379337\n",
        " 0.872483  0.593347  0.317926  0.468498       0.704033   0.821008   0.193618\n",
        " 0.73168   0.489387  0.181697  0.571          0.865163   0.741817   0.536748\n",
        "\n",
        "[:, :, 3] =\n",
        " 0.489658    0.14264   0.145704  0.542728  \u2026  0.071457  0.411336   0.797726\n",
        " 0.713934    0.429552  0.905639  0.783509     0.876986  0.0401655  0.368643\n",
        " 0.84375     0.327807  0.814989  0.365335     0.453994  0.645319   0.225276\n",
        " 0.686167    0.767993  0.770744  0.333818     0.259886  0.767293   0.141289\n",
        " 0.984834    0.41738   0.637808  0.449437     0.995435  0.382658   0.496992\n",
        " 0.313055    0.322675  0.832228  0.899461  \u2026  0.720609  0.0369909  0.634917\n",
        " 0.826694    0.440559  0.199586  0.249036     0.69205   0.482935   0.76877 \n",
        " 0.490781    0.865414  0.280272  0.643741     0.719765  0.684593   0.47661 \n",
        " 0.00766817  0.570888  0.127059  0.313817     0.380713  0.745232   0.932174\n",
        " 0.107388    0.127221  0.801341  0.499385     0.320446  0.603686   0.860282\n",
        "\n",
        "[:, :, 4] =\n",
        " 0.838444   0.515893    0.953019    \u2026  0.894459   0.326775    0.427907 \n",
        " 0.366418   0.665793    0.467984       0.294649   0.765005    0.340381 \n",
        " 0.231344   0.564807    0.917075       0.767529   0.243231    0.924003 \n",
        " 0.776854   0.155713    0.503725       0.707373   0.907469    0.345586 \n",
        " 0.0047528  0.304801    0.979028       0.701046   0.00714525  0.161511 \n",
        " 0.238799   0.652627    0.967278    \u2026  0.403355   0.582712    0.674483 \n",
        " 0.543481   0.00423572  0.00229953     0.0689954  0.67819     0.0320152\n",
        " 0.513406   0.688783    0.452197       0.868548   0.783775    0.300092 \n",
        " 0.0349317  0.952304    0.443386       0.415233   0.0939882   0.122133 \n",
        " 0.486076   0.523227    0.0100934      0.911983   0.680388    0.863591 \n",
        "\n",
        "[:, :, 5] =\n",
        " 0.939576  0.314624   0.0334603  \u2026  0.730118     0.820279  0.026606 \n",
        " 0.829508  0.402841   0.391993      0.000956699  0.734487  0.866639 \n",
        " 0.611317  0.768578   0.177954      0.285345     0.203535  0.169419 \n",
        " 0.52499   0.626215   0.510236      0.556681     0.532004  0.0721427\n",
        " 0.395132  0.082297   0.956054      0.630551     0.746926  0.957023 \n",
        " 0.669001  0.917684   0.998281   \u2026  0.636556     0.432288  0.140721 \n",
        " 0.757701  0.0697814  0.200101      0.823967     0.977935  0.301133 \n",
        " 0.895744  0.310431   0.133433      0.918699     0.167839  0.220535 \n",
        " 0.60728   0.458219   0.896877      0.177498     0.826448  0.363335 \n",
        " 0.511348  0.865993   0.243688      0.527795     0.513276  0.670851 \n",
        "\n",
        "[:, :, 6] =\n",
        " 0.618232  0.449938   0.304962  0.271774   \u2026  0.521928  0.835731   0.449259 \n",
        " 0.990345  0.10882    0.859497  0.0543718     0.622036  0.219129   0.24404  \n",
        " 0.142732  0.407801   0.939145  0.252192      0.329064  0.836192   0.769268 \n",
        " 0.854196  0.569303   0.280167  0.596796      0.964421  0.353399   0.692265 \n",
        " 0.173678  0.816467   0.206591  0.254212      0.527099  0.374661   0.812212 \n",
        " 0.357277  0.517852   0.359995  0.0187047  \u2026  0.538714  0.780694   0.0465243\n",
        " 0.562178  0.996371   0.367195  0.797379      0.680031  0.816188   0.115156 \n",
        " 0.634345  0.340917   0.814972  0.414243      0.555749  0.106319   0.739923 \n",
        " 0.438948  0.444683   0.422066  0.794391      0.57982   0.0297259  0.527688 \n",
        " 0.605361  0.0902515  0.298285  0.988446      0.994929  0.0978858  0.368095 \n",
        "\n",
        "[:, :, 7] =\n",
        " 0.280947   0.808966  0.428065  \u2026  0.322044   0.00375736  0.00611834\n",
        " 0.18855    0.877443  0.340069     0.0879266  0.538589    0.830676  \n",
        " 0.551909   0.876112  0.353189     0.932044   0.869885    0.686134  \n",
        " 0.71174    0.243614  0.670785     0.364745   0.00453108  0.0580577 \n",
        " 0.190216   0.532477  0.242873     0.945226   0.919007    0.106191  \n",
        " 0.404455   0.458947  0.304604  \u2026  0.961935   0.511932    0.39148   \n",
        " 0.975055   0.77013   0.117081     0.432331   0.941962    0.703579  \n",
        " 0.0847161  0.432707  0.451646     0.0338659  0.885977    0.208433  \n",
        " 0.42882    0.144261  0.498221     0.659018   0.478469    0.537977  \n",
        " 0.484585   0.382048  0.494314     0.509126   0.838423    0.263148  \n",
        "\n",
        "[:, :, 8] =\n",
        " 0.0034031  0.434163  0.277249   0.394584  \u2026  0.853495  0.720152  0.985605 \n",
        " 0.307136   0.251027  0.641191   0.214803     0.750371  0.355156  0.583907 \n",
        " 0.518578   0.346768  0.416347   0.930815     0.24942   0.691602  0.457541 \n",
        " 0.968967   0.844084  0.119568   0.567401     0.781294  0.748937  0.0728337\n",
        " 0.808849   0.735898  0.560682   0.208894     0.965187  0.302914  0.409227 \n",
        " 0.792028   0.408477  0.997233   0.639997  \u2026  0.566922  0.572811  0.936333 \n",
        " 0.85998    0.328273  0.0650694  0.952018     0.772026  0.569823  0.342484 \n",
        " 0.0970875  0.716509  0.652491   0.775835     0.270108  0.600226  0.449546 \n",
        " 0.743511   0.924522  0.448123   0.891447     0.459783  0.377047  0.174361 \n",
        " 0.873541   0.399633  0.183611   0.80426      0.726636  0.113415  0.841478 \n",
        "\n",
        "[:, :, 9] =\n",
        " 0.779477   0.843378   0.220179  0.965031  \u2026  0.745684  0.553108   0.442232 \n",
        " 0.222419   0.795878   0.429791  0.899412     0.848742  0.678172   0.236867 \n",
        " 0.520327   0.842168   0.153803  0.268321     0.776231  0.572239   0.203653 \n",
        " 0.740834   0.0656619  0.101685  0.187228     0.229307  0.495974   0.34589  \n",
        " 0.733679   0.16926    0.372699  0.307175     0.906556  0.0687063  0.679256 \n",
        " 0.0041393  0.260914   0.237853  0.343254  \u2026  0.971534  0.662703   0.0102113\n",
        " 0.748468   0.80007    0.587205  0.292618     0.481963  0.893653   0.901702 \n",
        " 0.776841   0.966514   0.502215  0.887612     0.406424  0.874406   0.978352 \n",
        " 0.943238   0.519194   0.921415  0.367618     0.172576  0.570459   0.201001 \n",
        " 0.217543   0.916004   0.783623  0.522529     0.518306  0.555042   0.394639 \n",
        "\n",
        "[:, :, 10] =\n",
        " 0.948592  0.295247   0.824684   0.364788  \u2026  0.353261  0.243156   0.0971858\n",
        " 0.80381   0.701051   0.142477   0.693344     0.652886  0.0159595  0.353584 \n",
        " 0.8571    0.813424   0.269005   0.812868     0.841084  0.618431   0.450411 \n",
        " 0.878683  0.784145   0.973397   0.261099     0.438443  0.0613768  0.904483 \n",
        " 0.335978  0.617016   0.958869   0.932801     0.859816  0.101641   0.483125 \n",
        " 0.580777  0.245117   0.929227   0.754489  \u2026  0.11374   0.455983   0.251968 \n",
        " 0.765441  0.875021   0.200548   0.481092     0.48547   0.357643   0.673809 \n",
        " 0.156086  0.98635    0.0456224  0.540432     0.796643  0.874841   0.913026 \n",
        " 0.243707  0.676582   0.971116   0.836861     0.223814  0.526867   0.881606 \n",
        " 0.311246  0.0602859  0.1832     0.64441      0.992304  0.62256    0.884825 "
       ]
      }
     ],
     "prompt_number": 9
    },
    {
     "cell_type": "code",
     "collapsed": false,
     "input": [
      "# Novice\n",
      "# 1. Create a 8x8 matrix and fill it with a checkerboard pattern\n",
      "Z = zeros(8,8)\n",
      "Z[1:2:end, 2:2:end] = 1\n",
      "Z[2:2:end, 1:2:end] = 1"
     ],
     "language": "python",
     "metadata": {},
     "outputs": [
      {
       "metadata": {},
       "output_type": "pyout",
       "prompt_number": 10,
       "text": [
        "1"
       ]
      }
     ],
     "prompt_number": 10
    },
    {
     "cell_type": "code",
     "collapsed": false,
     "input": [
      "# 2. Create a 10x10 array with random values and find the minimum and maximum values\n",
      "Z = rand(10, 10)\n",
      "Zmin, Zmax = minimum(Z), maximum(Z)\n",
      "# It also write as following. thanks [hc_e](http://qiita.com/chezou/items/d7ca4e95d25835a5cd01#comment-1c20073a44695c08f523)\n",
      "Zmin, Zmax = extrema(Z)"
     ],
     "language": "python",
     "metadata": {},
     "outputs": [
      {
       "metadata": {},
       "output_type": "pyout",
       "prompt_number": 11,
       "text": [
        "(0.006430988769027257,0.9935480480726822)"
       ]
      }
     ],
     "prompt_number": 11
    },
    {
     "cell_type": "code",
     "collapsed": false,
     "input": [
      "# 3. Create a checkerboard 8x8 matrix using the tile function\n",
      "# numpy's tile equal to repmat\n",
      "Z = repmat([0 1;1 0],4,4)"
     ],
     "language": "python",
     "metadata": {},
     "outputs": [
      {
       "metadata": {},
       "output_type": "pyout",
       "prompt_number": 12,
       "text": [
        "8x8 Array{Int64,2}:\n",
        " 0  1  0  1  0  1  0  1\n",
        " 1  0  1  0  1  0  1  0\n",
        " 0  1  0  1  0  1  0  1\n",
        " 1  0  1  0  1  0  1  0\n",
        " 0  1  0  1  0  1  0  1\n",
        " 1  0  1  0  1  0  1  0\n",
        " 0  1  0  1  0  1  0  1\n",
        " 1  0  1  0  1  0  1  0"
       ]
      }
     ],
     "prompt_number": 12
    },
    {
     "cell_type": "code",
     "collapsed": false,
     "input": [
      "# 4. Normalize a 5x5 random matrix (between 0 and 1)\n",
      "Z = rand(5, 5)\n",
      "Zmin, Zmax = minimum(Z), maximum(Z)\n",
      "Z = (Z .- Zmin)./(Zmax - Zmin)"
     ],
     "language": "python",
     "metadata": {},
     "outputs": [
      {
       "metadata": {},
       "output_type": "pyout",
       "prompt_number": 13,
       "text": [
        "5x5 Array{Float64,2}:\n",
        " 0.421604  0.286795  0.0       0.788051  0.179363 \n",
        " 0.843126  0.744028  1.0       0.230168  0.831311 \n",
        " 0.226546  0.578225  0.179899  0.125008  0.240117 \n",
        " 0.568808  0.763515  0.542117  0.690284  0.0450992\n",
        " 0.953258  0.511573  0.59149   0.187232  0.504333 "
       ]
      }
     ],
     "prompt_number": 13
    },
    {
     "cell_type": "code",
     "collapsed": false,
     "input": [
      "# 5. Multiply a 5x3 matrix by a 3x2 matrix (real matrix product)\n",
      "Z = ones(5,3) * ones(3,2)"
     ],
     "language": "python",
     "metadata": {},
     "outputs": [
      {
       "metadata": {},
       "output_type": "pyout",
       "prompt_number": 14,
       "text": [
        "5x2 Array{Float64,2}:\n",
        " 3.0  3.0\n",
        " 3.0  3.0\n",
        " 3.0  3.0\n",
        " 3.0  3.0\n",
        " 3.0  3.0"
       ]
      }
     ],
     "prompt_number": 14
    },
    {
     "cell_type": "code",
     "collapsed": false,
     "input": [
      "# 6. Create a 10x10 matrix with row values ranging from 0 to 9\n",
      "(zeros(10,10) .+ [0:9])'\n",
      "\n",
      "# Alternate solution\n",
      "# Author: Leah Hanson\n",
      "[y for x in 1:10, y in 0:9]"
     ],
     "language": "python",
     "metadata": {},
     "outputs": [
      {
       "metadata": {},
       "output_type": "pyout",
       "prompt_number": 15,
       "text": [
        "10x10 Array{Float64,2}:\n",
        " 0.0  1.0  2.0  3.0  4.0  5.0  6.0  7.0  8.0  9.0\n",
        " 0.0  1.0  2.0  3.0  4.0  5.0  6.0  7.0  8.0  9.0\n",
        " 0.0  1.0  2.0  3.0  4.0  5.0  6.0  7.0  8.0  9.0\n",
        " 0.0  1.0  2.0  3.0  4.0  5.0  6.0  7.0  8.0  9.0\n",
        " 0.0  1.0  2.0  3.0  4.0  5.0  6.0  7.0  8.0  9.0\n",
        " 0.0  1.0  2.0  3.0  4.0  5.0  6.0  7.0  8.0  9.0\n",
        " 0.0  1.0  2.0  3.0  4.0  5.0  6.0  7.0  8.0  9.0\n",
        " 0.0  1.0  2.0  3.0  4.0  5.0  6.0  7.0  8.0  9.0\n",
        " 0.0  1.0  2.0  3.0  4.0  5.0  6.0  7.0  8.0  9.0\n",
        " 0.0  1.0  2.0  3.0  4.0  5.0  6.0  7.0  8.0  9.0"
       ]
      }
     ],
     "prompt_number": 15
    },
    {
     "cell_type": "code",
     "collapsed": false,
     "input": [
      "# 7. Create a vector of size 1000 with values ranging from 0 to 1, both excluded\n",
      "linspace(0,1, 1002)[2:end - 1]"
     ],
     "language": "python",
     "metadata": {},
     "outputs": [
      {
       "metadata": {},
       "output_type": "pyout",
       "prompt_number": 16,
       "text": [
        "1000-element Array{Float64,1}:\n",
        " 0.000999001\n",
        " 0.001998   \n",
        " 0.002997   \n",
        " 0.003996   \n",
        " 0.004995   \n",
        " 0.00599401 \n",
        " 0.00699301 \n",
        " 0.00799201 \n",
        " 0.00899101 \n",
        " 0.00999001 \n",
        " 0.010989   \n",
        " 0.011988   \n",
        " 0.012987   \n",
        " \u22ee          \n",
        " 0.988012   \n",
        " 0.989011   \n",
        " 0.99001    \n",
        " 0.991009   \n",
        " 0.992008   \n",
        " 0.993007   \n",
        " 0.994006   \n",
        " 0.995005   \n",
        " 0.996004   \n",
        " 0.997003   \n",
        " 0.998002   \n",
        " 0.999001   "
       ]
      }
     ],
     "prompt_number": 16
    },
    {
     "cell_type": "code",
     "collapsed": false,
     "input": [
      "# 8. Create a random vector of size 100 and sort it\n",
      "Z = rand(100)\n",
      "sort(Z) # returns a sorted copy of Z; leaves Z unchanged\n",
      "\n",
      "# Alternate solution\n",
      "# Author: Leah Hanson\n",
      "Z = rand(100)\n",
      "sort!(Z) # sorts Z in-place; returns Z"
     ],
     "language": "python",
     "metadata": {},
     "outputs": [
      {
       "metadata": {},
       "output_type": "pyout",
       "prompt_number": 17,
       "text": [
        "100-element Array{Float64,1}:\n",
        " 0.00895001\n",
        " 0.0249477 \n",
        " 0.0266882 \n",
        " 0.02848   \n",
        " 0.0456936 \n",
        " 0.0505618 \n",
        " 0.0781106 \n",
        " 0.113393  \n",
        " 0.122039  \n",
        " 0.122539  \n",
        " 0.127363  \n",
        " 0.13276   \n",
        " 0.135205  \n",
        " \u22ee         \n",
        " 0.909319  \n",
        " 0.919037  \n",
        " 0.919247  \n",
        " 0.920544  \n",
        " 0.925802  \n",
        " 0.927862  \n",
        " 0.939988  \n",
        " 0.950878  \n",
        " 0.968321  \n",
        " 0.971819  \n",
        " 0.978728  \n",
        " 0.982876  "
       ]
      }
     ],
     "prompt_number": 17
    },
    {
     "cell_type": "code",
     "collapsed": false,
     "input": [
      "# 9. Consider two random matrices A anb B, check if they are equal.\n",
      "A = rand(0:2, 2,2)\n",
      "B = rand(0:2, 2,2)\n",
      "A == B"
     ],
     "language": "python",
     "metadata": {},
     "outputs": [
      {
       "metadata": {},
       "output_type": "pyout",
       "prompt_number": 18,
       "text": [
        "false"
       ]
      }
     ],
     "prompt_number": 18
    },
    {
     "cell_type": "code",
     "collapsed": false,
     "input": [
      "# 10. Create a random vector of size 1000 and find the mean value\n",
      "Z = rand(1000)\n",
      "m = mean(Z)"
     ],
     "language": "python",
     "metadata": {},
     "outputs": [
      {
       "metadata": {},
       "output_type": "pyout",
       "prompt_number": 19,
       "text": [
        "0.49427821812764283"
       ]
      }
     ],
     "prompt_number": 19
    },
    {
     "cell_type": "code",
     "collapsed": false,
     "input": [
      "# Apprentice\n",
      "# 1. Make an array immutable (read-only)\n",
      "# nothing"
     ],
     "language": "python",
     "metadata": {},
     "outputs": [],
     "prompt_number": 20
    },
    {
     "cell_type": "code",
     "collapsed": false,
     "input": [
      "# 2. Consider a random 100x2 matrix representing cartesian coordinates, convert them to polar coordinates\n",
      "Z = rand(100,2)\n",
      "X, Y = Z[:,1], Z[:,2]\n",
      "R = sqrt(X'*X + Y'*Y)\n",
      "T = atan2(Y,X)"
     ],
     "language": "python",
     "metadata": {},
     "outputs": [
      {
       "metadata": {},
       "output_type": "pyout",
       "prompt_number": 21,
       "text": [
        "100-element Array{Float64,1}:\n",
        " 0.608618 \n",
        " 0.150492 \n",
        " 0.745165 \n",
        " 0.0848466\n",
        " 1.24873  \n",
        " 0.716965 \n",
        " 0.271952 \n",
        " 0.405309 \n",
        " 1.327    \n",
        " 0.870171 \n",
        " 0.860336 \n",
        " 0.481012 \n",
        " 0.63082  \n",
        " \u22ee        \n",
        " 0.137144 \n",
        " 1.06022  \n",
        " 0.123655 \n",
        " 1.0982   \n",
        " 0.354227 \n",
        " 0.698072 \n",
        " 0.21488  \n",
        " 0.0414872\n",
        " 0.860116 \n",
        " 1.54435  \n",
        " 0.145319 \n",
        " 1.007    "
       ]
      }
     ],
     "prompt_number": 21
    },
    {
     "cell_type": "code",
     "collapsed": false,
     "input": [
      "# 3. Create random vector of size 100 and replace the maximum value by 0\n",
      "Z = rand(100)\n",
      "Z[indmax(Z)] = 0"
     ],
     "language": "python",
     "metadata": {},
     "outputs": [
      {
       "metadata": {},
       "output_type": "pyout",
       "prompt_number": 22,
       "text": [
        "0"
       ]
      }
     ],
     "prompt_number": 22
    },
    {
     "cell_type": "code",
     "collapsed": false,
     "input": [
      "# 4. Create a structured array with x and y coordinates covering the [0,1]x[0,1] area.\n",
      "# There is not exist `meshgrid` officially\n",
      "# see also. https://github.com/JuliaLang/julia/issues/4093\n",
      "# assume using https://github.com/JuliaLang/julia/blob/master/examples/ndgrid.jl\n",
      "include(\"/Applications/Julia-0.3.0-prerelease-547facf2c1.app/Contents/Resources/julia/share/julia/examples/ndgrid.jl\")\n",
      "X = linspace(0,1,10)\n",
      "Zx, Zy = meshgrid(X, X)"
     ],
     "language": "python",
     "metadata": {},
     "outputs": [
      {
       "metadata": {},
       "output_type": "pyout",
       "prompt_number": 23,
       "text": [
        "(\n",
        "10x10 Array{Float64,2}:\n",
        " 0.0  0.111111  0.222222  0.333333  \u2026  0.666667  0.777778  0.888889  1.0\n",
        " 0.0  0.111111  0.222222  0.333333     0.666667  0.777778  0.888889  1.0\n",
        " 0.0  0.111111  0.222222  0.333333     0.666667  0.777778  0.888889  1.0\n",
        " 0.0  0.111111  0.222222  0.333333     0.666667  0.777778  0.888889  1.0\n",
        " 0.0  0.111111  0.222222  0.333333     0.666667  0.777778  0.888889  1.0\n",
        " 0.0  0.111111  0.222222  0.333333  \u2026  0.666667  0.777778  0.888889  1.0\n",
        " 0.0  0.111111  0.222222  0.333333     0.666667  0.777778  0.888889  1.0\n",
        " 0.0  0.111111  0.222222  0.333333     0.666667  0.777778  0.888889  1.0\n",
        " 0.0  0.111111  0.222222  0.333333     0.666667  0.777778  0.888889  1.0\n",
        " 0.0  0.111111  0.222222  0.333333     0.666667  0.777778  0.888889  1.0,\n",
        "\n",
        "10x10 Array{Float64,2}:\n",
        " 0.0       0.0       0.0       0.0       \u2026  0.0       0.0       0.0     \n",
        " 0.111111  0.111111  0.111111  0.111111     0.111111  0.111111  0.111111\n",
        " 0.222222  0.222222  0.222222  0.222222     0.222222  0.222222  0.222222\n",
        " 0.333333  0.333333  0.333333  0.333333     0.333333  0.333333  0.333333\n",
        " 0.444444  0.444444  0.444444  0.444444     0.444444  0.444444  0.444444\n",
        " 0.555556  0.555556  0.555556  0.555556  \u2026  0.555556  0.555556  0.555556\n",
        " 0.666667  0.666667  0.666667  0.666667     0.666667  0.666667  0.666667\n",
        " 0.777778  0.777778  0.777778  0.777778     0.777778  0.777778  0.777778\n",
        " 0.888889  0.888889  0.888889  0.888889     0.888889  0.888889  0.888889\n",
        " 1.0       1.0       1.0       1.0          1.0       1.0       1.0     )"
       ]
      }
     ],
     "prompt_number": 23
    },
    {
     "cell_type": "code",
     "collapsed": false,
     "input": [
      "# 5. Print the minimum and maximum representable value for each Julia scalar type\n",
      "for dtype in (Int8, Int16, Int32, Int64)\n",
      "    println(typemin(dtype))\n",
      "    println(typemax(dtype))\n",
      "end\n",
      "# typemin, typemax returns -Inf, Inf\n",
      "for dtype in (Float32, Float64)\n",
      "    println(typemin(dtype))\n",
      "    println(typemax(dtype))\n",
      "    println(eps(dtype))\n",
      "end"
     ],
     "language": "python",
     "metadata": {},
     "outputs": [
      {
       "output_type": "stream",
       "stream": "stdout",
       "text": [
        "-128\n"
       ]
      },
      {
       "output_type": "stream",
       "stream": "stdout",
       "text": [
        "127\n",
        "-32768\n",
        "32767\n",
        "-2147483648\n",
        "2147483647\n",
        "-9223372036854775808"
       ]
      },
      {
       "output_type": "stream",
       "stream": "stdout",
       "text": [
        "\n",
        "9223372036854775807\n",
        "-Inf\n",
        "Inf\n",
        "1.1920929e-7\n",
        "-"
       ]
      },
      {
       "output_type": "stream",
       "stream": "stdout",
       "text": [
        "Inf\n",
        "Inf\n",
        "2.220446049250313e-16\n"
       ]
      }
     ],
     "prompt_number": 24
    },
    {
     "cell_type": "code",
     "collapsed": false,
     "input": [
      "# 6. Create a structured array representing a position (x,y) and a color (r,g,b)\n",
      "# Julia doesn't have StructArray\n",
      "# see also: https://github.com/JuliaLang/julia/issues/1263\n",
      "# use DataFrames"
     ],
     "language": "python",
     "metadata": {},
     "outputs": [],
     "prompt_number": 25
    },
    {
     "cell_type": "code",
     "collapsed": false,
     "input": [
      "# 7. Consider a random vector with shape (100,2) representing coordinates, find point by point distances\n",
      "Z = rand(10,2)\n",
      "X,Y = Z[:,1], Z[:,2]\n",
      "D = sqrtm((X.-X.')^2 + (Y .- Y.')^2)"
     ],
     "language": "python",
     "metadata": {},
     "outputs": [
      {
       "metadata": {},
       "output_type": "pyout",
       "prompt_number": 26,
       "text": [
        "10x10 Array{Complex{Float64},2}:\n",
        "   7.83615e-9+0.967513im   \u2026  -4.33401e-9+1.23087im  \n",
        "  -5.19238e-9+0.672375im       3.22701e-9+0.744646im \n",
        " -4.75732e-10+0.0860417im      2.20579e-9-0.0564009im\n",
        "  -2.20418e-9+0.125444im      6.14008e-10+0.0903423im\n",
        "   2.66037e-9+0.0402793im     -2.59701e-9-0.242044im \n",
        "  -1.48997e-9+0.0303584im  \u2026  9.74263e-11-0.199383im \n",
        "     2.562e-9+0.179267im      -1.86118e-9+0.170892im \n",
        "   1.15232e-9+0.927897im      -2.01514e-9+1.14476im  \n",
        " -5.14578e-10+0.0559013im      1.42804e-9-0.211849im \n",
        "  -4.33401e-9+1.23087im        3.23506e-9+1.64412im  "
       ]
      }
     ],
     "prompt_number": 26
    },
    {
     "cell_type": "code",
     "collapsed": false,
     "input": [
      "# 8. Generate a generic 2D Gaussian-like array\n",
      "X, Y = meshgrid(linspace(-1,1,100),linspace(-1,1,100))\n",
      "D = sqrtm(X*X + Y*Y)\n",
      "sigma, mu = 1.0, 0.0\n",
      "G = exp(-( (D.-mu)^2 / ( 2.0 * sigma^2 ) ) )"
     ],
     "language": "python",
     "metadata": {},
     "outputs": [
      {
       "metadata": {},
       "output_type": "pyout",
       "prompt_number": 27,
       "text": [
        "100x100 Array{Complex{Float64},2}:\n",
        " 1.0-1.47911e-31im   1.0-3.45127e-31im  \u2026           1.0-0.0im\n",
        " 1.0-5.42342e-31im    1.0-3.9443e-31im     1.0+4.43734e-31im \n",
        " 1.0+1.97215e-31im   1.0+4.93038e-32im     1.0-5.42342e-31im \n",
        " 1.0-2.95823e-31im   1.0-2.95823e-31im     1.0+5.42342e-31im \n",
        "  1.0+1.2819e-30im   1.0+1.08468e-30im     1.0-1.57772e-30im \n",
        " 1.0+9.86076e-31im   1.0+7.88861e-31im  \u2026  1.0-1.97215e-30im \n",
        " 1.0+2.95823e-31im    1.0+3.9443e-31im     1.0-1.97215e-31im \n",
        " 1.0+3.45127e-31im   1.0+2.95823e-31im     1.0-4.93038e-31im \n",
        " 1.0+1.97215e-31im   1.0-4.93038e-32im     1.0-4.43734e-31im \n",
        "          1.0-0.0im  1.0-4.93038e-32im     1.0-2.95823e-31im \n",
        " 1.0-1.97215e-31im   1.0-2.95823e-31im  \u2026  1.0+1.97215e-31im \n",
        "  1.0-1.2326e-31im   1.0-2.21867e-31im      1.0-3.9443e-31im \n",
        " 1.0-8.62817e-32im   1.0-6.16298e-32im     1.0-2.46519e-31im \n",
        "             \u22ee                          \u22f1                    \n",
        " 1.0+2.46519e-31im   1.0+2.46519e-31im     1.0-5.91646e-31im \n",
        " 1.0+8.87469e-31im    1.0+3.9443e-31im     1.0-1.18329e-30im \n",
        " 1.0+1.47911e-31im   1.0-1.47911e-31im  \u2026  1.0-2.46519e-31im \n",
        " 1.0+4.93038e-32im   1.0+4.93038e-32im     1.0-2.95823e-31im \n",
        "          1.0-0.0im  1.0-1.47911e-31im     1.0-2.71171e-31im \n",
        " 1.0-1.84889e-31im   1.0-1.35585e-31im     1.0-1.54074e-31im \n",
        " 1.0-2.95823e-31im   1.0-5.91646e-31im     1.0+1.97215e-31im \n",
        " 1.0-7.39557e-32im   1.0-2.95823e-31im  \u2026  1.0+4.93038e-32im \n",
        " 1.0+5.91646e-31im   1.0+1.97215e-31im              1.0-0.0im\n",
        " 1.0+4.43734e-31im   1.0+5.42342e-31im     1.0+5.91646e-31im \n",
        "  1.0+1.2326e-30im    1.0+1.2819e-30im     1.0-7.88861e-31im \n",
        " 1.0+1.92285e-30im   1.0+1.42981e-30im     1.0-1.57772e-30im "
       ]
      }
     ],
     "prompt_number": 27
    },
    {
     "cell_type": "code",
     "collapsed": false,
     "input": [
      "# 9. Consider the vector [1, 2, 3, 4, 5], how to build a new vector with 3 consecutive zeros interleaved between each value ?\n",
      "Z = [1,2,3,4,5]\n",
      "nz = 3\n",
      "Z0 = zeros(length(Z) + (length(Z)-1)*(nz))\n",
      "Z0[1:nz+1:end] = Z"
     ],
     "language": "python",
     "metadata": {},
     "outputs": [
      {
       "metadata": {},
       "output_type": "pyout",
       "prompt_number": 28,
       "text": [
        "5-element Array{Int64,1}:\n",
        " 1\n",
        " 2\n",
        " 3\n",
        " 4\n",
        " 5"
       ]
      }
     ],
     "prompt_number": 28
    },
    {
     "cell_type": "code",
     "collapsed": false,
     "input": [
      "# 10. Find the nearest value from a given value in an array\n",
      "Z = [3,6,9,12,15]\n",
      "Z[indmin(abs(Z .- 10))]"
     ],
     "language": "python",
     "metadata": {},
     "outputs": [
      {
       "metadata": {},
       "output_type": "pyout",
       "prompt_number": 29,
       "text": [
        "9"
       ]
      }
     ],
     "prompt_number": 29
    },
    {
     "cell_type": "code",
     "collapsed": false,
     "input": [
      "# Journyman\n",
      "# 1. Consider the following file:\n",
      "# 1,2,3,4,5\n",
      "# 6,,,7,8\n",
      "# ,,9,10,11\n",
      "# How to read it ?\n",
      "using DataFrames\n",
      "readtable(\"missing.dat\")"
     ],
     "language": "python",
     "metadata": {},
     "outputs": [
      {
       "html": [
        "<table><tr><th></th><th>x1</th><th>x2</th><th>x3</th><th>x4</th><th>x5</th></tr><tr><th>1</th><td>6</td><td>NA</td><td>NA</td><td>7</td><td>8</td></tr><tr><th>2</th><td>NA</td><td>NA</td><td>9</td><td>10</td><td>11</td></tr></table>"
       ],
       "metadata": {},
       "output_type": "pyout",
       "prompt_number": 30,
       "text": [
        "2x5 DataFrame\n",
        "|-------|----|----|----|----|----|\n",
        "| Row # | x1 | x2 | x3 | x4 | x5 |\n",
        "| 1     | 6  | NA | NA | 7  | 8  |\n",
        "| 2     | NA | NA | 9  | 10 | 11 |"
       ]
      }
     ],
     "prompt_number": 30
    },
    {
     "cell_type": "code",
     "collapsed": false,
     "input": [
      "# 2. Consider a generator function that generates 10 integers and use it to build an array\n",
      "# I can't translate this question"
     ],
     "language": "python",
     "metadata": {},
     "outputs": [],
     "prompt_number": 31
    },
    {
     "cell_type": "code",
     "collapsed": false,
     "input": [
      "# 3. Consider a given vector, how to add 1 to each element indexed by a second vector (be careful with repeated indices) ?\n",
      "using StatsBase\n",
      "Z = ones(10)\n",
      "I = rand(0:length(Z), 20)\n",
      "Z += counts(I, 1:length(Z))"
     ],
     "language": "python",
     "metadata": {},
     "outputs": [
      {
       "metadata": {},
       "output_type": "pyout",
       "prompt_number": 32,
       "text": [
        "10-element Array{Float64,1}:\n",
        " 4.0\n",
        " 4.0\n",
        " 2.0\n",
        " 7.0\n",
        " 2.0\n",
        " 2.0\n",
        " 1.0\n",
        " 3.0\n",
        " 2.0\n",
        " 1.0"
       ]
      }
     ],
     "prompt_number": 32
    },
    {
     "cell_type": "code",
     "collapsed": false,
     "input": [
      "# 4. How to accumulate elements of a vector (X) to an array (F) based on an index list (I) ?\n",
      "using StatsBase\n",
      "X = WeightVec([1,2,3,4,5,6])\n",
      "I = [1,3,9,3,4,1]\n",
      "F = counts(I, maximum(I), X)"
     ],
     "language": "python",
     "metadata": {},
     "outputs": [
      {
       "metadata": {},
       "output_type": "pyout",
       "prompt_number": 33,
       "text": [
        "9-element Array{Int64,1}:\n",
        " 7\n",
        " 0\n",
        " 6\n",
        " 5\n",
        " 0\n",
        " 0\n",
        " 0\n",
        " 0\n",
        " 3"
       ]
      }
     ],
     "prompt_number": 33
    },
    {
     "cell_type": "code",
     "collapsed": false,
     "input": [
      "# 5. Considering a (w,h,3) image of (dtype=ubyte), compute the number of unique colors\n",
      "w,h = 16,16\n",
      "I = convert(Array{Uint8}, rand(0:2, (h,w,3)))\n",
      "F = I[:,:,1] * 256 * 256 + I[:,:,2]*256 + I[:,:,3]\n",
      "n = length(unique(F))\n",
      "unique(I)"
     ],
     "language": "python",
     "metadata": {},
     "outputs": [
      {
       "metadata": {},
       "output_type": "pyout",
       "prompt_number": 34,
       "text": [
        "3-element Array{Uint8,1}:\n",
        " 0x01\n",
        " 0x00\n",
        " 0x02"
       ]
      }
     ],
     "prompt_number": 34
    },
    {
     "cell_type": "code",
     "collapsed": false,
     "input": [
      "# 6. Considering a four dimensions array, how to get sum over the last two axis at once ?\n",
      "A = rand(0:10, (3,4,3,4))\n",
      "x,y = size(A)[1:end-2]\n",
      "z = prod(size(A)[end-1:end])\n",
      "calc_sum = sum(reshape(A, (x,y,z)),3)"
     ],
     "language": "python",
     "metadata": {},
     "outputs": [
      {
       "metadata": {},
       "output_type": "pyout",
       "prompt_number": 35,
       "text": [
        "3x4x1 Array{Int64,3}:\n",
        "[:, :, 1] =\n",
        " 53  55  51  56\n",
        " 60  43  80  63\n",
        " 45  63  74  53"
       ]
      }
     ],
     "prompt_number": 35
    },
    {
     "cell_type": "code",
     "collapsed": false,
     "input": [
      "# 7. Considering a one-dimensional vector D, how to compute means of subsets of D using a vector S of same size describing subset indices ?\n",
      "using StatsBase\n",
      "D = WeightVec(rand(100))\n",
      "S = rand(0:10,100)\n",
      "D_sums = counts(S, maximum(S), D)\n",
      "D_counts = counts(S, maximum(S))\n",
      "D_means = D_sums ./ D_counts"
     ],
     "language": "python",
     "metadata": {},
     "outputs": [
      {
       "metadata": {},
       "output_type": "pyout",
       "prompt_number": 36,
       "text": [
        "10-element Array{Float64,1}:\n",
        " 0.449725\n",
        " 0.613773\n",
        " 0.418555\n",
        " 0.479967\n",
        " 0.645673\n",
        " 0.42139 \n",
        " 0.58413 \n",
        " 0.367296\n",
        " 0.467514\n",
        " 0.503871"
       ]
      }
     ],
     "prompt_number": 36
    },
    {
     "cell_type": "code",
     "collapsed": false,
     "input": [
      "# Craftsman\n",
      "# 1. Consider a one-dimensional array Z, build a two-dimensional array whose first row is (Z[0],Z[1],Z[2]) and each subsequent row is shifted by 1 (last row should be (Z[-3],Z[-2],Z[-1])\n",
      "# I don't find any function like stride_tricks.as_stride\n",
      "function rolling(A, window)\n",
      "       Z = zeros(length(A)-2, window)\n",
      "       for i in 1:(length(A) - window +1)\n",
      "           Z[i,:] = A[i:i+2]\n",
      "       end\n",
      "       return Z\n",
      "end\n",
      "\n",
      "rolling(0:100, 3)"
     ],
     "language": "python",
     "metadata": {},
     "outputs": [
      {
       "metadata": {},
       "output_type": "pyout",
       "prompt_number": 37,
       "text": [
        "99x3 Array{Float64,2}:\n",
        "  0.0   1.0    2.0\n",
        "  1.0   2.0    3.0\n",
        "  2.0   3.0    4.0\n",
        "  3.0   4.0    5.0\n",
        "  4.0   5.0    6.0\n",
        "  5.0   6.0    7.0\n",
        "  6.0   7.0    8.0\n",
        "  7.0   8.0    9.0\n",
        "  8.0   9.0   10.0\n",
        "  9.0  10.0   11.0\n",
        " 10.0  11.0   12.0\n",
        " 11.0  12.0   13.0\n",
        " 12.0  13.0   14.0\n",
        "  \u22ee               \n",
        " 87.0  88.0   89.0\n",
        " 88.0  89.0   90.0\n",
        " 89.0  90.0   91.0\n",
        " 90.0  91.0   92.0\n",
        " 91.0  92.0   93.0\n",
        " 92.0  93.0   94.0\n",
        " 93.0  94.0   95.0\n",
        " 94.0  95.0   96.0\n",
        " 95.0  96.0   97.0\n",
        " 96.0  97.0   98.0\n",
        " 97.0  98.0   99.0\n",
        " 98.0  99.0  100.0"
       ]
      }
     ],
     "prompt_number": 37
    },
    {
     "cell_type": "code",
     "collapsed": false,
     "input": [
      "# 2. Consider a set of 100 triplets describing 100 triangles (with shared vertices), find the set of unique line segments composing all the triangles.\n",
      "\n",
      "faces = rand(0:100, 100, 3)\n",
      "face2 = kron(faces,[1 1])\n",
      "\n",
      "F = circshift(sortcols(face2),(0,1))\n",
      "F = reshape(F, (convert(Int64,length(F)/2),2))\n",
      "F = sort(F,2)\n",
      "G = unique(F,1)"
     ],
     "language": "python",
     "metadata": {},
     "outputs": [
      {
       "metadata": {},
       "output_type": "pyout",
       "prompt_number": 38,
       "text": [
        "294x2 Array{Int64,2}:\n",
        " 88   89\n",
        " 77   89\n",
        " 72   78\n",
        " 34  100\n",
        " 34   42\n",
        " 59   82\n",
        " 67   73\n",
        " 30   87\n",
        " 21   99\n",
        " 37   48\n",
        " 18   80\n",
        " 14   36\n",
        " 76   77\n",
        "  \u22ee     \n",
        "  4   27\n",
        "  5   33\n",
        " 33   57\n",
        " 10   35\n",
        " 35   85\n",
        " 79   95\n",
        " 10   87\n",
        " 54   57\n",
        " 55   87\n",
        " 78   87\n",
        " 35   38\n",
        "  3   12"
       ]
      }
     ],
     "prompt_number": 38
    },
    {
     "cell_type": "code",
     "collapsed": false,
     "input": [
      "# 3. Given an array C that is a bincount, how to produce an array A such that np.bincount(A) == C ?\n",
      "using StatsBase\n",
      "O = [1 1 2 3 4 4 6]\n",
      "C = counts(O, maximum(O))\n",
      "A = foldl(vcat,[kron(ones(Int64, C[i]), i) for i in 1:length(C)])"
     ],
     "language": "python",
     "metadata": {},
     "outputs": [
      {
       "metadata": {},
       "output_type": "pyout",
       "prompt_number": 39,
       "text": [
        "7-element Array{Int64,1}:\n",
        " 1\n",
        " 1\n",
        " 2\n",
        " 3\n",
        " 4\n",
        " 4\n",
        " 6"
       ]
      }
     ],
     "prompt_number": 39
    },
    {
     "cell_type": "code",
     "collapsed": false,
     "input": [
      "# 4. How to compute averages using a sliding window over an array ?\n",
      "function moving_average(A, n=3)\n",
      "           ret = cumsum(A)\n",
      "           ret[n+1:end] = ret[n+1:end] - ret[1:end-n]\n",
      "           return ret[n:end-1] / n\n",
      "end\n",
      "Z = 0:20\n",
      "moving_average(Z, 3)"
     ],
     "language": "python",
     "metadata": {},
     "outputs": [
      {
       "metadata": {},
       "output_type": "pyout",
       "prompt_number": 40,
       "text": [
        "18-element Array{Float64,1}:\n",
        "  1.0\n",
        "  2.0\n",
        "  3.0\n",
        "  4.0\n",
        "  5.0\n",
        "  6.0\n",
        "  7.0\n",
        "  8.0\n",
        "  9.0\n",
        " 10.0\n",
        " 11.0\n",
        " 12.0\n",
        " 13.0\n",
        " 14.0\n",
        " 15.0\n",
        " 16.0\n",
        " 17.0\n",
        " 18.0"
       ]
      }
     ],
     "prompt_number": 40
    },
    {
     "cell_type": "code",
     "collapsed": false,
     "input": [
      "# Artisan\n",
      "# 1. Considering a 100x3 matrix, extract rows with unequal values (e.g. [2,2,3])\n",
      "Z = rand(0:5,100,3)\n",
      "E = prod(Z[:,2:end] .== Z[:,1:end-1],2)\n",
      "U = Z[find(~E), :]"
     ],
     "language": "python",
     "metadata": {},
     "outputs": [
      {
       "metadata": {},
       "output_type": "pyout",
       "prompt_number": 41,
       "text": [
        "95x3 Array{Int64,2}:\n",
        " 4  0  4\n",
        " 2  3  0\n",
        " 4  3  0\n",
        " 4  1  5\n",
        " 5  3  1\n",
        " 1  5  2\n",
        " 4  4  5\n",
        " 0  2  1\n",
        " 2  3  0\n",
        " 2  4  5\n",
        " 1  1  5\n",
        " 3  1  1\n",
        " 1  3  4\n",
        " \u22ee      \n",
        " 3  5  1\n",
        " 2  0  2\n",
        " 1  5  1\n",
        " 2  1  0\n",
        " 4  2  4\n",
        " 3  4  0\n",
        " 1  5  5\n",
        " 3  3  5\n",
        " 0  1  1\n",
        " 5  0  1\n",
        " 5  1  1\n",
        " 1  4  0"
       ]
      }
     ],
     "prompt_number": 41
    },
    {
     "cell_type": "code",
     "collapsed": false,
     "input": [
      "# 2. Convert a vector of ints into a matrix binary representation.\n",
      "I = [0 1 2 3 15 16 32 64 128]\n",
      "B = foldl(hcat,[reverse(int(bool(i & (2 .^ (0:8))))) for i in I])'"
     ],
     "language": "python",
     "metadata": {},
     "outputs": [
      {
       "metadata": {},
       "output_type": "pyout",
       "prompt_number": 42,
       "text": [
        "9x9 Array{Int64,2}:\n",
        " 0  0  0  0  0  0  0  0  0\n",
        " 0  0  0  0  0  0  0  0  1\n",
        " 0  0  0  0  0  0  0  1  0\n",
        " 0  0  0  0  0  0  0  1  1\n",
        " 0  0  0  0  0  1  1  1  1\n",
        " 0  0  0  0  1  0  0  0  0\n",
        " 0  0  0  1  0  0  0  0  0\n",
        " 0  0  1  0  0  0  0  0  0\n",
        " 0  1  0  0  0  0  0  0  0"
       ]
      }
     ],
     "prompt_number": 42
    },
    {
     "cell_type": "code",
     "collapsed": false,
     "input": [
      "# Adept\n",
      "# 1. Consider an arbitrary array, write a function that extract a subpart with a fixed shape and centered on a given element (pad with a fill value when necessary)\n",
      "# TBS"
     ],
     "language": "python",
     "metadata": {},
     "outputs": [],
     "prompt_number": 43
    },
    {
     "cell_type": "code",
     "collapsed": false,
     "input": [
      "# Expert\n",
      "# 1. Consider two arrays A and B of shape (8,3) and (2,2). How to find rows of A that contain elements of each row of B regardless of the order of the elements in B ?\n",
      "# I can't execute numpy version..."
     ],
     "language": "python",
     "metadata": {},
     "outputs": [],
     "prompt_number": 44
    },
    {
     "cell_type": "code",
     "collapsed": false,
     "input": [
      "# 2. Extract all the contiguous 3x3 blocks from a random 10x10 matrix.\n",
      "# TBS"
     ],
     "language": "python",
     "metadata": {},
     "outputs": [],
     "prompt_number": 45
    },
    {
     "cell_type": "code",
     "collapsed": false,
     "input": [
      "# 3. Extract all the contiguous 3x3 blocks from a random 10x10 matrix.\n",
      "# There is Symmetric class in julia but immutable\n",
      "# https://github.com/JuliaLang/julia/blob/master/base/linalg/symmetric.jl\n",
      "# See also: https://github.com/JuliaLang/julia/pull/1533"
     ],
     "language": "python",
     "metadata": {},
     "outputs": [],
     "prompt_number": 46
    },
    {
     "cell_type": "code",
     "collapsed": false,
     "input": [
      "# 4. Consider a set of p matrices wich shape (n,n) and a set of p vectors with shape (n,1). How to compute the sum of of the p matrix products at once ? (result has shape (n,1))\n",
      "# TBS"
     ],
     "language": "python",
     "metadata": {},
     "outputs": [],
     "prompt_number": 47
    },
    {
     "cell_type": "code",
     "collapsed": false,
     "input": [
      "# Master\n",
      "# 1. Given a two dimensional array, how to extract unique rows ?\n",
      "Z = rand(0:2, 6,3)\n",
      "uZ = unique(Z,1)"
     ],
     "language": "python",
     "metadata": {},
     "outputs": [
      {
       "metadata": {},
       "output_type": "pyout",
       "prompt_number": 48,
       "text": [
        "6x3 Array{Int64,2}:\n",
        " 2  2  2\n",
        " 1  1  1\n",
        " 1  1  0\n",
        " 1  0  2\n",
        " 0  0  1\n",
        " 0  1  1"
       ]
      }
     ],
     "prompt_number": 48
    }
   ],
   "metadata": {}
  }
 ]
}